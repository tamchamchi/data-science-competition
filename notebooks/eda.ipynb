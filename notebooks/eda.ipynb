{
 "cells": [
  {
   "cell_type": "code",
   "execution_count": 1,
   "id": "1eeade3172c8ccc4",
   "metadata": {
    "ExecuteTime": {
     "end_time": "2024-11-11T07:38:53.901182Z",
     "start_time": "2024-11-11T07:38:25.863609Z"
    }
   },
   "outputs": [],
   "source": [
    "#import library\n",
    "import numpy as np\n",
    "import pandas as pd\n",
    "import seaborn as sns\n",
    "import json\n",
    "import matplotlib.pyplot as plt\n",
    "import re\n",
    "import emoji\n",
    "from collections import Counter\n",
    "\n"
   ]
  },
  {
   "cell_type": "code",
   "execution_count": 4,
   "id": "cd10278c3d1f9950",
   "metadata": {
    "ExecuteTime": {
     "end_time": "2024-11-10T13:41:09.042891Z",
     "start_time": "2024-11-10T13:41:09.039336Z"
    }
   },
   "outputs": [],
   "source": [
    "data_predict_path = {\n",
    "    'json': r\"F:\\Năm 3 - HK1\\data-science-competition\\data\\Data_test_public\\vimmsd-public-test.json\",\n",
    "    'images': r\"F:\\Năm 3 - HK1\\data-science-competition\\data\\Data_test_public\\public-test-images\\dev-images\"\n",
    "}\n",
    "\n",
    "data_path = {\n",
    "    'json': r'F:\\Năm 3 - HK1\\data-science-competition\\data\\Data_train\\vimmsd-train.json',\n",
    "    'images': r'F:\\Năm 3 - HK1\\data-science-competition\\data\\Data_train\\training-images\\train-images'\n",
    "}"
   ]
  },
  {
   "cell_type": "code",
   "execution_count": 5,
   "id": "4ed21181aecac24f",
   "metadata": {
    "ExecuteTime": {
     "end_time": "2024-11-10T11:08:27.523745Z",
     "start_time": "2024-11-10T11:08:27.518196Z"
    }
   },
   "outputs": [],
   "source": [
    "def load_data(path):\n",
    "    with open(path, 'r', encoding='utf-8') as f:\n",
    "        f = json.load(f)\n",
    "    data = pd.DataFrame.from_dict(f, orient='index')\n",
    "    return data\n"
   ]
  },
  {
   "cell_type": "code",
   "execution_count": 6,
   "id": "fc873028",
   "metadata": {},
   "outputs": [
    {
     "data": {
      "text/html": [
       "<div>\n",
       "<style scoped>\n",
       "    .dataframe tbody tr th:only-of-type {\n",
       "        vertical-align: middle;\n",
       "    }\n",
       "\n",
       "    .dataframe tbody tr th {\n",
       "        vertical-align: top;\n",
       "    }\n",
       "\n",
       "    .dataframe thead th {\n",
       "        text-align: right;\n",
       "    }\n",
       "</style>\n",
       "<table border=\"1\" class=\"dataframe\">\n",
       "  <thead>\n",
       "    <tr style=\"text-align: right;\">\n",
       "      <th></th>\n",
       "      <th>image</th>\n",
       "      <th>caption</th>\n",
       "      <th>label</th>\n",
       "    </tr>\n",
       "  </thead>\n",
       "  <tbody>\n",
       "    <tr>\n",
       "      <th>0</th>\n",
       "      <td>8ae451edcd8ebf697f8763ece249115813149c55733bf8...</td>\n",
       "      <td>Cô ấy trên mạng vs cô ấy ngoài đời =)))</td>\n",
       "      <td>multi-sarcasm</td>\n",
       "    </tr>\n",
       "    <tr>\n",
       "      <th>1</th>\n",
       "      <td>35370ffd6c791d6f8c4ab3dd4363ed468fab41e4824ee9...</td>\n",
       "      <td>Người tâm linh giao tiếp với người thực tế :)))</td>\n",
       "      <td>not-sarcasm</td>\n",
       "    </tr>\n",
       "    <tr>\n",
       "      <th>2</th>\n",
       "      <td>316fdd1477725b9fb1a55015ac06b68b92b50bd4303e08...</td>\n",
       "      <td>Hình như Trăng hôm nay đẹp quá mọi người ạ! 😃 ...</td>\n",
       "      <td>multi-sarcasm</td>\n",
       "    </tr>\n",
       "    <tr>\n",
       "      <th>3</th>\n",
       "      <td>8a0f34e0e30e4e5cfb306933c1d25fa801a5da78646b59...</td>\n",
       "      <td>MỌI NGƯỜI NGHĨ SAO VỀ PHÁT BIỂU CỦA SHARK VIỆT...</td>\n",
       "      <td>not-sarcasm</td>\n",
       "    </tr>\n",
       "    <tr>\n",
       "      <th>4</th>\n",
       "      <td>e517a5e95d1065886a7c815e82fe254381d4f9f4b244d4...</td>\n",
       "      <td>2 tay hai nàng chứ việc gì phải lệ hai hàng</td>\n",
       "      <td>multi-sarcasm</td>\n",
       "    </tr>\n",
       "    <tr>\n",
       "      <th>...</th>\n",
       "      <td>...</td>\n",
       "      <td>...</td>\n",
       "      <td>...</td>\n",
       "    </tr>\n",
       "    <tr>\n",
       "      <th>10800</th>\n",
       "      <td>46ce5ad52085691fc81869c82e8222c0d737b34fedc2bd...</td>\n",
       "      <td>Lộn đầu rồi</td>\n",
       "      <td>not-sarcasm</td>\n",
       "    </tr>\n",
       "    <tr>\n",
       "      <th>10801</th>\n",
       "      <td>f816f7152cca9c5899f818ce681cf0949c6964ea2fc5ae...</td>\n",
       "      <td>Chào các bạn, mình là Goda Takeshi. Trong live...</td>\n",
       "      <td>not-sarcasm</td>\n",
       "    </tr>\n",
       "    <tr>\n",
       "      <th>10802</th>\n",
       "      <td>0accae8d37f9edc90b5f0a2f5f3cca773f5d01b5124302...</td>\n",
       "      <td>Cre: Hùynh Quốc Huy</td>\n",
       "      <td>not-sarcasm</td>\n",
       "    </tr>\n",
       "    <tr>\n",
       "      <th>10803</th>\n",
       "      <td>bf125e295f85c0946940b789b2ba10106b2a85b9e70d88...</td>\n",
       "      <td>Anh hùng thật sự</td>\n",
       "      <td>not-sarcasm</td>\n",
       "    </tr>\n",
       "    <tr>\n",
       "      <th>10804</th>\n",
       "      <td>a8bd707f12b5f47bbb42b501eb1ae896c22a474155ec0d...</td>\n",
       "      <td>Quá là bình thường 😤\\n- Butch3r\\n#interpool</td>\n",
       "      <td>not-sarcasm</td>\n",
       "    </tr>\n",
       "  </tbody>\n",
       "</table>\n",
       "<p>10805 rows × 3 columns</p>\n",
       "</div>"
      ],
      "text/plain": [
       "                                                   image  \\\n",
       "0      8ae451edcd8ebf697f8763ece249115813149c55733bf8...   \n",
       "1      35370ffd6c791d6f8c4ab3dd4363ed468fab41e4824ee9...   \n",
       "2      316fdd1477725b9fb1a55015ac06b68b92b50bd4303e08...   \n",
       "3      8a0f34e0e30e4e5cfb306933c1d25fa801a5da78646b59...   \n",
       "4      e517a5e95d1065886a7c815e82fe254381d4f9f4b244d4...   \n",
       "...                                                  ...   \n",
       "10800  46ce5ad52085691fc81869c82e8222c0d737b34fedc2bd...   \n",
       "10801  f816f7152cca9c5899f818ce681cf0949c6964ea2fc5ae...   \n",
       "10802  0accae8d37f9edc90b5f0a2f5f3cca773f5d01b5124302...   \n",
       "10803  bf125e295f85c0946940b789b2ba10106b2a85b9e70d88...   \n",
       "10804  a8bd707f12b5f47bbb42b501eb1ae896c22a474155ec0d...   \n",
       "\n",
       "                                                 caption          label  \n",
       "0                Cô ấy trên mạng vs cô ấy ngoài đời =)))  multi-sarcasm  \n",
       "1        Người tâm linh giao tiếp với người thực tế :)))    not-sarcasm  \n",
       "2      Hình như Trăng hôm nay đẹp quá mọi người ạ! 😃 ...  multi-sarcasm  \n",
       "3      MỌI NGƯỜI NGHĨ SAO VỀ PHÁT BIỂU CỦA SHARK VIỆT...    not-sarcasm  \n",
       "4            2 tay hai nàng chứ việc gì phải lệ hai hàng  multi-sarcasm  \n",
       "...                                                  ...            ...  \n",
       "10800                                        Lộn đầu rồi    not-sarcasm  \n",
       "10801  Chào các bạn, mình là Goda Takeshi. Trong live...    not-sarcasm  \n",
       "10802                                Cre: Hùynh Quốc Huy    not-sarcasm  \n",
       "10803                                   Anh hùng thật sự    not-sarcasm  \n",
       "10804        Quá là bình thường 😤\\n- Butch3r\\n#interpool    not-sarcasm  \n",
       "\n",
       "[10805 rows x 3 columns]"
      ]
     },
     "execution_count": 6,
     "metadata": {},
     "output_type": "execute_result"
    }
   ],
   "source": [
    "df = load_data(data_path['json'])\n",
    "df"
   ]
  },
  {
   "cell_type": "code",
   "execution_count": 54,
   "id": "d9906b273ac2432",
   "metadata": {
    "ExecuteTime": {
     "end_time": "2024-11-07T16:51:24.643836Z",
     "start_time": "2024-11-07T16:51:24.627964Z"
    }
   },
   "outputs": [],
   "source": [
    "import pandas as pd\n",
    "\n",
    "# Giả sử df là DataFrame ban đầu với các cột 'caption' và 'label'\n",
    "# Lọc các giá trị trùng lặp trong cột 'caption'\n",
    "duplicates = df[df.duplicated(subset=['caption'], keep=False)]\n",
    "\n",
    "# Đếm số lần xuất hiện cho từng loại label trên các giá trị 'caption' bị trùng\n",
    "result = (\n",
    "    duplicates.groupby(['caption', 'label'])\n",
    "    .size()\n",
    "    .unstack(fill_value=0)\n",
    "    .reset_index()\n",
    "    .rename_axis(None, axis=1)\n",
    ")\n",
    "\n",
    "# Đổi tên các cột để dễ hiểu hơn\n",
    "result.columns = ['caption', 'not-sarcasm', 'text-sarcasm', 'image-sarcasm', 'multi-sarcasm']\n"
   ]
  },
  {
   "cell_type": "code",
   "execution_count": 6,
   "id": "9966a90e43a109df",
   "metadata": {
    "ExecuteTime": {
     "end_time": "2024-11-07T18:22:47.982332Z",
     "start_time": "2024-11-07T18:22:47.972639Z"
    }
   },
   "outputs": [
    {
     "data": {
      "text/html": [
       "<div>\n",
       "<style scoped>\n",
       "    .dataframe tbody tr th:only-of-type {\n",
       "        vertical-align: middle;\n",
       "    }\n",
       "\n",
       "    .dataframe tbody tr th {\n",
       "        vertical-align: top;\n",
       "    }\n",
       "\n",
       "    .dataframe thead th {\n",
       "        text-align: right;\n",
       "    }\n",
       "</style>\n",
       "<table border=\"1\" class=\"dataframe\">\n",
       "  <thead>\n",
       "    <tr style=\"text-align: right;\">\n",
       "      <th></th>\n",
       "      <th>caption</th>\n",
       "      <th>not-sarcasm</th>\n",
       "      <th>text-sarcasm</th>\n",
       "      <th>image-sarcasm</th>\n",
       "      <th>multi-sarcasm</th>\n",
       "    </tr>\n",
       "  </thead>\n",
       "  <tbody>\n",
       "    <tr>\n",
       "      <th>0</th>\n",
       "      <td>\"BƠI ĐÊM\" CÓ NGÀY GẶP ...?\\nGia đình Waller gồ...</td>\n",
       "      <td>0</td>\n",
       "      <td>0</td>\n",
       "      <td>4</td>\n",
       "      <td>0</td>\n",
       "    </tr>\n",
       "    <tr>\n",
       "      <th>1</th>\n",
       "      <td>\"Lấy Mẻ bôi kín những chỗ bám bẩn xong để qua ...</td>\n",
       "      <td>0</td>\n",
       "      <td>0</td>\n",
       "      <td>2</td>\n",
       "      <td>0</td>\n",
       "    </tr>\n",
       "    <tr>\n",
       "      <th>2</th>\n",
       "      <td>\"MẠNG XÃ HỘI ZING ME CHÍNH THỨC RA MẮT GIỚI TR...</td>\n",
       "      <td>0</td>\n",
       "      <td>0</td>\n",
       "      <td>5</td>\n",
       "      <td>0</td>\n",
       "    </tr>\n",
       "    <tr>\n",
       "      <th>3</th>\n",
       "      <td>\"Những tổn thương ấy vẫn luôn ở đây, chẳng qua...</td>\n",
       "      <td>0</td>\n",
       "      <td>0</td>\n",
       "      <td>4</td>\n",
       "      <td>0</td>\n",
       "    </tr>\n",
       "    <tr>\n",
       "      <th>4</th>\n",
       "      <td>\"Tý về ông già chửi tau chớt luôn á\" - Con giờ...</td>\n",
       "      <td>0</td>\n",
       "      <td>0</td>\n",
       "      <td>4</td>\n",
       "      <td>0</td>\n",
       "    </tr>\n",
       "    <tr>\n",
       "      <th>...</th>\n",
       "      <td>...</td>\n",
       "      <td>...</td>\n",
       "      <td>...</td>\n",
       "      <td>...</td>\n",
       "      <td>...</td>\n",
       "    </tr>\n",
       "    <tr>\n",
       "      <th>692</th>\n",
       "      <td>🥕🥕RA MẮT ÁO THUN STREET STYLE THỎ BẢY MÀU SS1🥕...</td>\n",
       "      <td>0</td>\n",
       "      <td>0</td>\n",
       "      <td>5</td>\n",
       "      <td>0</td>\n",
       "    </tr>\n",
       "    <tr>\n",
       "      <th>693</th>\n",
       "      <td>🥰</td>\n",
       "      <td>2</td>\n",
       "      <td>0</td>\n",
       "      <td>1</td>\n",
       "      <td>0</td>\n",
       "    </tr>\n",
       "    <tr>\n",
       "      <th>694</th>\n",
       "      <td>🥰🥰😍😍🥰🥰😍😌😍🥰🥰🥲🙂😚</td>\n",
       "      <td>0</td>\n",
       "      <td>0</td>\n",
       "      <td>5</td>\n",
       "      <td>0</td>\n",
       "    </tr>\n",
       "    <tr>\n",
       "      <th>695</th>\n",
       "      <td>🥲</td>\n",
       "      <td>0</td>\n",
       "      <td>2</td>\n",
       "      <td>0</td>\n",
       "      <td>0</td>\n",
       "    </tr>\n",
       "    <tr>\n",
       "      <th>696</th>\n",
       "      <td>🫡🇻🇳</td>\n",
       "      <td>0</td>\n",
       "      <td>0</td>\n",
       "      <td>2</td>\n",
       "      <td>0</td>\n",
       "    </tr>\n",
       "  </tbody>\n",
       "</table>\n",
       "<p>697 rows × 5 columns</p>\n",
       "</div>"
      ],
      "text/plain": [
       "                                               caption  not-sarcasm  \\\n",
       "0    \"BƠI ĐÊM\" CÓ NGÀY GẶP ...?\\nGia đình Waller gồ...            0   \n",
       "1    \"Lấy Mẻ bôi kín những chỗ bám bẩn xong để qua ...            0   \n",
       "2    \"MẠNG XÃ HỘI ZING ME CHÍNH THỨC RA MẮT GIỚI TR...            0   \n",
       "3    \"Những tổn thương ấy vẫn luôn ở đây, chẳng qua...            0   \n",
       "4    \"Tý về ông già chửi tau chớt luôn á\" - Con giờ...            0   \n",
       "..                                                 ...          ...   \n",
       "692  🥕🥕RA MẮT ÁO THUN STREET STYLE THỎ BẢY MÀU SS1🥕...            0   \n",
       "693                                                  🥰            2   \n",
       "694                                     🥰🥰😍😍🥰🥰😍😌😍🥰🥰🥲🙂😚            0   \n",
       "695                                                  🥲            0   \n",
       "696                                                🫡🇻🇳            0   \n",
       "\n",
       "     text-sarcasm  image-sarcasm  multi-sarcasm  \n",
       "0               0              4              0  \n",
       "1               0              2              0  \n",
       "2               0              5              0  \n",
       "3               0              4              0  \n",
       "4               0              4              0  \n",
       "..            ...            ...            ...  \n",
       "692             0              5              0  \n",
       "693             0              1              0  \n",
       "694             0              5              0  \n",
       "695             2              0              0  \n",
       "696             0              2              0  \n",
       "\n",
       "[697 rows x 5 columns]"
      ]
     },
     "execution_count": 6,
     "metadata": {},
     "output_type": "execute_result"
    }
   ],
   "source": [
    "result"
   ]
  },
  {
   "cell_type": "code",
   "execution_count": 7,
   "id": "3d3c50005b2673b2",
   "metadata": {
    "ExecuteTime": {
     "end_time": "2024-11-02T08:04:06.211154Z",
     "start_time": "2024-11-02T08:04:06.202747Z"
    }
   },
   "outputs": [],
   "source": [
    "encoded_label = {\n",
    "    'not-sarcasm': 0,\n",
    "    'image-sarcasm': 1,\n",
    "    'text-sarcasm': 2,\n",
    "    'multi-sarcasm': 3,\n",
    "}\n",
    "labels = ['multi-sarcasm', 'not-sarcasm', 'image-sarcasm', 'text-sarcasm']\n",
    "\n",
    "df['encoded_label'] = df['label'].apply(lambda x: encoded_label[x])\n"
   ]
  },
  {
   "cell_type": "code",
   "execution_count": 8,
   "id": "c1db9c3778547066",
   "metadata": {},
   "outputs": [
    {
     "data": {
      "text/plain": [
       "label\n",
       "not-sarcasm      6062\n",
       "multi-sarcasm    4224\n",
       "image-sarcasm     442\n",
       "text-sarcasm       77\n",
       "Name: count, dtype: int64"
      ]
     },
     "execution_count": 8,
     "metadata": {},
     "output_type": "execute_result"
    }
   ],
   "source": [
    "df['label'].value_counts()"
   ]
  },
  {
   "cell_type": "code",
   "execution_count": 10,
   "id": "36af7e02",
   "metadata": {},
   "outputs": [
    {
     "data": {
      "image/png": "[encoded data removed]",
      "text/plain": [
       "<Figure size 800x800 with 1 Axes>"
      ]
     },
     "metadata": {},
     "output_type": "display_data"
    }
   ],
   "source": [
    "# Vẽ biểu đồ tròn\n",
    "plt.figure(figsize=(8, 8))\n",
    "plt.pie(\n",
    "    [df['label'].value_counts().get(label, 0) for label in labels],  # Số lượng từng label\n",
    "    labels=labels,  # Tên từng label\n",
    "    autopct='%1.1f%%',  # Hiển thị phần trăm\n",
    "    startangle=140,  # Góc bắt đầu\n",
    "    colors=['#ff9999', '#66b3ff', '#99ff99', '#ffcc99']  # Màu sắc tùy chỉnh\n",
    ")\n",
    "\n",
    "plt.title(\"Distribution of Labels\", fontsize=16)\n",
    "plt.show()"
   ]
  },
  {
   "cell_type": "code",
   "execution_count": 10,
   "id": "90babb13a0019917",
   "metadata": {
    "ExecuteTime": {
     "end_time": "2024-11-02T08:04:06.827357Z",
     "start_time": "2024-11-02T08:04:06.817672Z"
    }
   },
   "outputs": [
    {
     "data": {
      "text/html": [
       "<div>\n",
       "<style scoped>\n",
       "    .dataframe tbody tr th:only-of-type {\n",
       "        vertical-align: middle;\n",
       "    }\n",
       "\n",
       "    .dataframe tbody tr th {\n",
       "        vertical-align: top;\n",
       "    }\n",
       "\n",
       "    .dataframe thead th {\n",
       "        text-align: right;\n",
       "    }\n",
       "</style>\n",
       "<table border=\"1\" class=\"dataframe\">\n",
       "  <thead>\n",
       "    <tr style=\"text-align: right;\">\n",
       "      <th></th>\n",
       "      <th>encoded_label</th>\n",
       "    </tr>\n",
       "  </thead>\n",
       "  <tbody>\n",
       "    <tr>\n",
       "      <th>count</th>\n",
       "      <td>10805.00000</td>\n",
       "    </tr>\n",
       "    <tr>\n",
       "      <th>mean</th>\n",
       "      <td>1.22795</td>\n",
       "    </tr>\n",
       "    <tr>\n",
       "      <th>std</th>\n",
       "      <td>1.44226</td>\n",
       "    </tr>\n",
       "    <tr>\n",
       "      <th>min</th>\n",
       "      <td>0.00000</td>\n",
       "    </tr>\n",
       "    <tr>\n",
       "      <th>25%</th>\n",
       "      <td>0.00000</td>\n",
       "    </tr>\n",
       "    <tr>\n",
       "      <th>50%</th>\n",
       "      <td>0.00000</td>\n",
       "    </tr>\n",
       "    <tr>\n",
       "      <th>75%</th>\n",
       "      <td>3.00000</td>\n",
       "    </tr>\n",
       "    <tr>\n",
       "      <th>max</th>\n",
       "      <td>3.00000</td>\n",
       "    </tr>\n",
       "  </tbody>\n",
       "</table>\n",
       "</div>"
      ],
      "text/plain": [
       "       encoded_label\n",
       "count    10805.00000\n",
       "mean         1.22795\n",
       "std          1.44226\n",
       "min          0.00000\n",
       "25%          0.00000\n",
       "50%          0.00000\n",
       "75%          3.00000\n",
       "max          3.00000"
      ]
     },
     "execution_count": 10,
     "metadata": {},
     "output_type": "execute_result"
    }
   ],
   "source": [
    "df.describe()"
   ]
  },
  {
   "cell_type": "markdown",
   "id": "aaa3b3a90f6ba990",
   "metadata": {},
   "source": [
    "# phân tích emoji"
   ]
  },
  {
   "cell_type": "code",
   "execution_count": 11,
   "id": "f12f2d11bcd94f64",
   "metadata": {
    "ExecuteTime": {
     "end_time": "2024-11-02T08:04:07.043040Z",
     "start_time": "2024-11-02T08:04:07.034037Z"
    }
   },
   "outputs": [
    {
     "data": {
      "text/html": [
       "<div>\n",
       "<style scoped>\n",
       "    .dataframe tbody tr th:only-of-type {\n",
       "        vertical-align: middle;\n",
       "    }\n",
       "\n",
       "    .dataframe tbody tr th {\n",
       "        vertical-align: top;\n",
       "    }\n",
       "\n",
       "    .dataframe thead th {\n",
       "        text-align: right;\n",
       "    }\n",
       "</style>\n",
       "<table border=\"1\" class=\"dataframe\">\n",
       "  <thead>\n",
       "    <tr style=\"text-align: right;\">\n",
       "      <th></th>\n",
       "      <th>image</th>\n",
       "      <th>caption</th>\n",
       "      <th>label</th>\n",
       "      <th>encoded_label</th>\n",
       "    </tr>\n",
       "  </thead>\n",
       "  <tbody>\n",
       "    <tr>\n",
       "      <th>0</th>\n",
       "      <td>8ae451edcd8ebf697f8763ece249115813149c55733bf8...</td>\n",
       "      <td>Cô ấy trên mạng vs cô ấy ngoài đời =)))</td>\n",
       "      <td>multi-sarcasm</td>\n",
       "      <td>3</td>\n",
       "    </tr>\n",
       "    <tr>\n",
       "      <th>1</th>\n",
       "      <td>35370ffd6c791d6f8c4ab3dd4363ed468fab41e4824ee9...</td>\n",
       "      <td>Người tâm linh giao tiếp với người thực tế :)))</td>\n",
       "      <td>not-sarcasm</td>\n",
       "      <td>0</td>\n",
       "    </tr>\n",
       "    <tr>\n",
       "      <th>2</th>\n",
       "      <td>316fdd1477725b9fb1a55015ac06b68b92b50bd4303e08...</td>\n",
       "      <td>Hình như Trăng hôm nay đẹp quá mọi người ạ! 😃 ...</td>\n",
       "      <td>multi-sarcasm</td>\n",
       "      <td>3</td>\n",
       "    </tr>\n",
       "    <tr>\n",
       "      <th>3</th>\n",
       "      <td>8a0f34e0e30e4e5cfb306933c1d25fa801a5da78646b59...</td>\n",
       "      <td>MỌI NGƯỜI NGHĨ SAO VỀ PHÁT BIỂU CỦA SHARK VIỆT...</td>\n",
       "      <td>not-sarcasm</td>\n",
       "      <td>0</td>\n",
       "    </tr>\n",
       "    <tr>\n",
       "      <th>4</th>\n",
       "      <td>e517a5e95d1065886a7c815e82fe254381d4f9f4b244d4...</td>\n",
       "      <td>2 tay hai nàng chứ việc gì phải lệ hai hàng</td>\n",
       "      <td>multi-sarcasm</td>\n",
       "      <td>3</td>\n",
       "    </tr>\n",
       "  </tbody>\n",
       "</table>\n",
       "</div>"
      ],
      "text/plain": [
       "                                               image  \\\n",
       "0  8ae451edcd8ebf697f8763ece249115813149c55733bf8...   \n",
       "1  35370ffd6c791d6f8c4ab3dd4363ed468fab41e4824ee9...   \n",
       "2  316fdd1477725b9fb1a55015ac06b68b92b50bd4303e08...   \n",
       "3  8a0f34e0e30e4e5cfb306933c1d25fa801a5da78646b59...   \n",
       "4  e517a5e95d1065886a7c815e82fe254381d4f9f4b244d4...   \n",
       "\n",
       "                                             caption          label  \\\n",
       "0            Cô ấy trên mạng vs cô ấy ngoài đời =)))  multi-sarcasm   \n",
       "1    Người tâm linh giao tiếp với người thực tế :)))    not-sarcasm   \n",
       "2  Hình như Trăng hôm nay đẹp quá mọi người ạ! 😃 ...  multi-sarcasm   \n",
       "3  MỌI NGƯỜI NGHĨ SAO VỀ PHÁT BIỂU CỦA SHARK VIỆT...    not-sarcasm   \n",
       "4        2 tay hai nàng chứ việc gì phải lệ hai hàng  multi-sarcasm   \n",
       "\n",
       "   encoded_label  \n",
       "0              3  \n",
       "1              0  \n",
       "2              3  \n",
       "3              0  \n",
       "4              3  "
      ]
     },
     "execution_count": 11,
     "metadata": {},
     "output_type": "execute_result"
    }
   ],
   "source": [
    "df.head()"
   ]
  },
  {
   "cell_type": "code",
   "execution_count": 27,
   "id": "1927c2788daa9f4b",
   "metadata": {
    "ExecuteTime": {
     "end_time": "2024-11-10T11:10:33.977609Z",
     "start_time": "2024-11-10T11:10:33.885481Z"
    }
   },
   "outputs": [],
   "source": [
    "import emoji\n",
    "\n",
    "# Tạo DataFrame để lưu trữ kết quả\n",
    "df_emoji = pd.DataFrame(columns=['emoji'])\n",
    "\n",
    "\n",
    "# Hàm để tìm emoji trong một chuỗi\n",
    "def extract_emojis(text):\n",
    "    return [char for char in text if emoji.is_emoji(char)]\n",
    "\n",
    "\n",
    "labels = ['multi-sarcasm', 'not-sarcasm', 'text-sarcasm', 'image-sarcasm']\n",
    "# Đếm số lần xuất hiện của mỗi emoji trong từng lớp\n",
    "for label in labels:\n",
    "    # Lọc DataFrame theo label\n",
    "    filtered_df = df[df['label'] == label]\n",
    "\n",
    "    # Tìm tất cả các emoji trong cột và tách ra thành từng hàng\n",
    "    all_emojis = filtered_df['caption'].apply(extract_emojis).explode()\n",
    "\n",
    "    # Đếm số lần xuất hiện của từng emoji\n",
    "    emoji_counts = all_emojis.value_counts().reset_index()\n",
    "    emoji_counts.columns = ['emoji', label]\n",
    "    df_emoji = df_emoji.merge(emoji_counts, on='emoji', how='outer')\n",
    "\n",
    "df_emoji = df_emoji.fillna(0)"
   ]
  },
  {
   "cell_type": "code",
   "execution_count": 28,
   "id": "a6bef39470cdb269",
   "metadata": {
    "ExecuteTime": {
     "end_time": "2024-11-10T11:10:34.568378Z",
     "start_time": "2024-11-10T11:10:34.559308Z"
    }
   },
   "outputs": [
    {
     "data": {
      "text/html": [
       "<div>\n",
       "<style scoped>\n",
       "    .dataframe tbody tr th:only-of-type {\n",
       "        vertical-align: middle;\n",
       "    }\n",
       "\n",
       "    .dataframe tbody tr th {\n",
       "        vertical-align: top;\n",
       "    }\n",
       "\n",
       "    .dataframe thead th {\n",
       "        text-align: right;\n",
       "    }\n",
       "</style>\n",
       "<table border=\"1\" class=\"dataframe\">\n",
       "  <thead>\n",
       "    <tr style=\"text-align: right;\">\n",
       "      <th></th>\n",
       "      <th>emoji</th>\n",
       "      <th>multi-sarcasm</th>\n",
       "      <th>not-sarcasm</th>\n",
       "      <th>text-sarcasm</th>\n",
       "      <th>image-sarcasm</th>\n",
       "    </tr>\n",
       "  </thead>\n",
       "  <tbody>\n",
       "    <tr>\n",
       "      <th>0</th>\n",
       "      <td>©</td>\n",
       "      <td>3.0</td>\n",
       "      <td>7.0</td>\n",
       "      <td>0.0</td>\n",
       "      <td>0.0</td>\n",
       "    </tr>\n",
       "    <tr>\n",
       "      <th>1</th>\n",
       "      <td>‼</td>\n",
       "      <td>3.0</td>\n",
       "      <td>46.0</td>\n",
       "      <td>0.0</td>\n",
       "      <td>1.0</td>\n",
       "    </tr>\n",
       "    <tr>\n",
       "      <th>2</th>\n",
       "      <td>⁉</td>\n",
       "      <td>1.0</td>\n",
       "      <td>5.0</td>\n",
       "      <td>0.0</td>\n",
       "      <td>0.0</td>\n",
       "    </tr>\n",
       "    <tr>\n",
       "      <th>3</th>\n",
       "      <td>↕</td>\n",
       "      <td>1.0</td>\n",
       "      <td>0.0</td>\n",
       "      <td>0.0</td>\n",
       "      <td>0.0</td>\n",
       "    </tr>\n",
       "    <tr>\n",
       "      <th>4</th>\n",
       "      <td>⏰</td>\n",
       "      <td>2.0</td>\n",
       "      <td>23.0</td>\n",
       "      <td>0.0</td>\n",
       "      <td>0.0</td>\n",
       "    </tr>\n",
       "    <tr>\n",
       "      <th>...</th>\n",
       "      <td>...</td>\n",
       "      <td>...</td>\n",
       "      <td>...</td>\n",
       "      <td>...</td>\n",
       "      <td>...</td>\n",
       "    </tr>\n",
       "    <tr>\n",
       "      <th>511</th>\n",
       "      <td>🫦</td>\n",
       "      <td>1.0</td>\n",
       "      <td>0.0</td>\n",
       "      <td>0.0</td>\n",
       "      <td>0.0</td>\n",
       "    </tr>\n",
       "    <tr>\n",
       "      <th>512</th>\n",
       "      <td>🫨</td>\n",
       "      <td>0.0</td>\n",
       "      <td>5.0</td>\n",
       "      <td>0.0</td>\n",
       "      <td>0.0</td>\n",
       "    </tr>\n",
       "    <tr>\n",
       "      <th>513</th>\n",
       "      <td>🫰</td>\n",
       "      <td>5.0</td>\n",
       "      <td>33.0</td>\n",
       "      <td>0.0</td>\n",
       "      <td>0.0</td>\n",
       "    </tr>\n",
       "    <tr>\n",
       "      <th>514</th>\n",
       "      <td>🫵</td>\n",
       "      <td>1.0</td>\n",
       "      <td>16.0</td>\n",
       "      <td>0.0</td>\n",
       "      <td>1.0</td>\n",
       "    </tr>\n",
       "    <tr>\n",
       "      <th>515</th>\n",
       "      <td>🫶</td>\n",
       "      <td>7.0</td>\n",
       "      <td>19.0</td>\n",
       "      <td>0.0</td>\n",
       "      <td>1.0</td>\n",
       "    </tr>\n",
       "  </tbody>\n",
       "</table>\n",
       "<p>516 rows × 5 columns</p>\n",
       "</div>"
      ],
      "text/plain": [
       "    emoji  multi-sarcasm  not-sarcasm  text-sarcasm  image-sarcasm\n",
       "0       ©            3.0          7.0           0.0            0.0\n",
       "1       ‼            3.0         46.0           0.0            1.0\n",
       "2       ⁉            1.0          5.0           0.0            0.0\n",
       "3       ↕            1.0          0.0           0.0            0.0\n",
       "4       ⏰            2.0         23.0           0.0            0.0\n",
       "..    ...            ...          ...           ...            ...\n",
       "511     🫦            1.0          0.0           0.0            0.0\n",
       "512     🫨            0.0          5.0           0.0            0.0\n",
       "513     🫰            5.0         33.0           0.0            0.0\n",
       "514     🫵            1.0         16.0           0.0            1.0\n",
       "515     🫶            7.0         19.0           0.0            1.0\n",
       "\n",
       "[516 rows x 5 columns]"
      ]
     },
     "execution_count": 28,
     "metadata": {},
     "output_type": "execute_result"
    }
   ],
   "source": [
    "df_emoji"
   ]
  },
  {
   "cell_type": "code",
   "execution_count": 25,
   "id": "2c298b54146e8ba",
   "metadata": {
    "ExecuteTime": {
     "end_time": "2024-11-02T08:04:07.694811Z",
     "start_time": "2024-11-02T08:04:07.687730Z"
    }
   },
   "outputs": [],
   "source": [
    "df_emoji['multi_rate'] = df_emoji['multi-sarcasm'].apply(lambda x : x * 4224/10805)\n",
    "df_emoji['not_rate'] = df_emoji['not-sarcasm'].apply(lambda x : x * 6062/10805)\n",
    "df_emoji['image_rate'] = df_emoji['image-sarcasm'].apply(lambda x : x * 442/10805)\n",
    "df_emoji['text_rate'] = df_emoji['text-sarcasm'].apply(lambda x : x * 77/10805)\n"
   ]
  },
  {
   "cell_type": "code",
   "execution_count": 29,
   "id": "27949e8a30fbdca5",
   "metadata": {
    "ExecuteTime": {
     "end_time": "2024-11-02T08:04:07.850152Z",
     "start_time": "2024-11-02T08:04:07.836893Z"
    }
   },
   "outputs": [
    {
     "data": {
      "text/html": [
       "<div>\n",
       "<style scoped>\n",
       "    .dataframe tbody tr th:only-of-type {\n",
       "        vertical-align: middle;\n",
       "    }\n",
       "\n",
       "    .dataframe tbody tr th {\n",
       "        vertical-align: top;\n",
       "    }\n",
       "\n",
       "    .dataframe thead th {\n",
       "        text-align: right;\n",
       "    }\n",
       "</style>\n",
       "<table border=\"1\" class=\"dataframe\">\n",
       "  <thead>\n",
       "    <tr style=\"text-align: right;\">\n",
       "      <th></th>\n",
       "      <th>emoji</th>\n",
       "      <th>multi-sarcasm</th>\n",
       "      <th>not-sarcasm</th>\n",
       "      <th>text-sarcasm</th>\n",
       "      <th>image-sarcasm</th>\n",
       "    </tr>\n",
       "  </thead>\n",
       "  <tbody>\n",
       "    <tr>\n",
       "      <th>0</th>\n",
       "      <td>©</td>\n",
       "      <td>3.0</td>\n",
       "      <td>7.0</td>\n",
       "      <td>0.0</td>\n",
       "      <td>0.0</td>\n",
       "    </tr>\n",
       "    <tr>\n",
       "      <th>1</th>\n",
       "      <td>‼</td>\n",
       "      <td>3.0</td>\n",
       "      <td>46.0</td>\n",
       "      <td>0.0</td>\n",
       "      <td>1.0</td>\n",
       "    </tr>\n",
       "    <tr>\n",
       "      <th>2</th>\n",
       "      <td>⁉</td>\n",
       "      <td>1.0</td>\n",
       "      <td>5.0</td>\n",
       "      <td>0.0</td>\n",
       "      <td>0.0</td>\n",
       "    </tr>\n",
       "    <tr>\n",
       "      <th>3</th>\n",
       "      <td>↕</td>\n",
       "      <td>1.0</td>\n",
       "      <td>0.0</td>\n",
       "      <td>0.0</td>\n",
       "      <td>0.0</td>\n",
       "    </tr>\n",
       "    <tr>\n",
       "      <th>4</th>\n",
       "      <td>⏰</td>\n",
       "      <td>2.0</td>\n",
       "      <td>23.0</td>\n",
       "      <td>0.0</td>\n",
       "      <td>0.0</td>\n",
       "    </tr>\n",
       "    <tr>\n",
       "      <th>5</th>\n",
       "      <td>⏱</td>\n",
       "      <td>0.0</td>\n",
       "      <td>5.0</td>\n",
       "      <td>0.0</td>\n",
       "      <td>0.0</td>\n",
       "    </tr>\n",
       "    <tr>\n",
       "      <th>6</th>\n",
       "      <td>⏲</td>\n",
       "      <td>0.0</td>\n",
       "      <td>1.0</td>\n",
       "      <td>0.0</td>\n",
       "      <td>0.0</td>\n",
       "    </tr>\n",
       "    <tr>\n",
       "      <th>7</th>\n",
       "      <td>⏳</td>\n",
       "      <td>0.0</td>\n",
       "      <td>1.0</td>\n",
       "      <td>0.0</td>\n",
       "      <td>0.0</td>\n",
       "    </tr>\n",
       "    <tr>\n",
       "      <th>8</th>\n",
       "      <td>▪</td>\n",
       "      <td>0.0</td>\n",
       "      <td>3.0</td>\n",
       "      <td>0.0</td>\n",
       "      <td>0.0</td>\n",
       "    </tr>\n",
       "    <tr>\n",
       "      <th>9</th>\n",
       "      <td>▶</td>\n",
       "      <td>0.0</td>\n",
       "      <td>3.0</td>\n",
       "      <td>0.0</td>\n",
       "      <td>0.0</td>\n",
       "    </tr>\n",
       "  </tbody>\n",
       "</table>\n",
       "</div>"
      ],
      "text/plain": [
       "  emoji  multi-sarcasm  not-sarcasm  text-sarcasm  image-sarcasm\n",
       "0     ©            3.0          7.0           0.0            0.0\n",
       "1     ‼            3.0         46.0           0.0            1.0\n",
       "2     ⁉            1.0          5.0           0.0            0.0\n",
       "3     ↕            1.0          0.0           0.0            0.0\n",
       "4     ⏰            2.0         23.0           0.0            0.0\n",
       "5     ⏱            0.0          5.0           0.0            0.0\n",
       "6     ⏲            0.0          1.0           0.0            0.0\n",
       "7     ⏳            0.0          1.0           0.0            0.0\n",
       "8     ▪            0.0          3.0           0.0            0.0\n",
       "9     ▶            0.0          3.0           0.0            0.0"
      ]
     },
     "execution_count": 29,
     "metadata": {},
     "output_type": "execute_result"
    }
   ],
   "source": [
    "df_emoji.head(10)"
   ]
  },
  {
   "cell_type": "markdown",
   "id": "1dacda0345e39f7e",
   "metadata": {},
   "source": [
    "sự phân phối của emoji không đồng đều có thể dẫn đến mô hình sẽ dựa vào emoji để dự đoán mà không xét tới dấu hiệu đa phương thức </br>\n",
    "**Đề xuất:** Dữ lại emoji"
   ]
  },
  {
   "cell_type": "markdown",
   "id": "86ab76634b8be9e8",
   "metadata": {},
   "source": [
    "# Phân tích hashtag"
   ]
  },
  {
   "cell_type": "code",
   "execution_count": 35,
   "id": "2bb82a690831b346",
   "metadata": {
    "ExecuteTime": {
     "end_time": "2024-11-02T08:04:08.117244Z",
     "start_time": "2024-11-02T08:04:08.078198Z"
    }
   },
   "outputs": [],
   "source": [
    "df_hashtags = pd.DataFrame(columns=['hashtag'])\n",
    "\n",
    "\n",
    "def extract_hashtags(text):\n",
    "    hashtag = re.findall(r'#\\w+', text)\n",
    "    return hashtag\n",
    "\n",
    "\n",
    "for label in labels:\n",
    "    # Lọc DataFrame theo label\n",
    "    filtered_df = df[df['label'] == label]\n",
    "\n",
    "    # Tìm tất cả các emoji trong cột và tách ra thành từng hàng\n",
    "    all_hashtags = filtered_df['caption'].apply(extract_hashtags).explode()\n",
    "\n",
    "    # Đếm số lần xuất hiện của từng emoji\n",
    "    hashtag_counts = all_hashtags.value_counts().reset_index()\n",
    "    hashtag_counts.columns = ['hashtag', label]\n",
    "    df_hashtags = df_hashtags.merge(hashtag_counts, on='hashtag', how='outer')\n",
    "\n",
    "df_hashtags = df_hashtags.fillna(0)"
   ]
  },
  {
   "cell_type": "code",
   "execution_count": 32,
   "id": "7bea4c38df1e438b",
   "metadata": {
    "ExecuteTime": {
     "end_time": "2024-11-02T08:04:08.275135Z",
     "start_time": "2024-11-02T08:04:08.267031Z"
    }
   },
   "outputs": [],
   "source": [
    "df_hashtags['multi_rate'] = df_hashtags['multi-sarcasm'].apply(lambda x : x * 4224/10805)\n",
    "df_hashtags['not_rate'] = df_hashtags['not-sarcasm'].apply(lambda x : x * 6062/10805)\n",
    "df_hashtags['image_rate'] = df_hashtags['image-sarcasm'].apply(lambda x : x * 442/10805)\n",
    "df_hashtags['text_rate'] = df_hashtags['text-sarcasm'].apply(lambda x : x * 77/10805)\n"
   ]
  },
  {
   "cell_type": "code",
   "execution_count": 36,
   "id": "67c661258fc9f3d",
   "metadata": {
    "ExecuteTime": {
     "end_time": "2024-11-02T08:04:08.444385Z",
     "start_time": "2024-11-02T08:04:08.431687Z"
    }
   },
   "outputs": [
    {
     "data": {
      "text/html": [
       "<div>\n",
       "<style scoped>\n",
       "    .dataframe tbody tr th:only-of-type {\n",
       "        vertical-align: middle;\n",
       "    }\n",
       "\n",
       "    .dataframe tbody tr th {\n",
       "        vertical-align: top;\n",
       "    }\n",
       "\n",
       "    .dataframe thead th {\n",
       "        text-align: right;\n",
       "    }\n",
       "</style>\n",
       "<table border=\"1\" class=\"dataframe\">\n",
       "  <thead>\n",
       "    <tr style=\"text-align: right;\">\n",
       "      <th></th>\n",
       "      <th>hashtag</th>\n",
       "      <th>multi-sarcasm</th>\n",
       "      <th>not-sarcasm</th>\n",
       "      <th>text-sarcasm</th>\n",
       "      <th>image-sarcasm</th>\n",
       "    </tr>\n",
       "  </thead>\n",
       "  <tbody>\n",
       "    <tr>\n",
       "      <th>0</th>\n",
       "      <td>#0</td>\n",
       "      <td>1.0</td>\n",
       "      <td>0.0</td>\n",
       "      <td>0.0</td>\n",
       "      <td>0.0</td>\n",
       "    </tr>\n",
       "    <tr>\n",
       "      <th>1</th>\n",
       "      <td>#098</td>\n",
       "      <td>0.0</td>\n",
       "      <td>1.0</td>\n",
       "      <td>0.0</td>\n",
       "      <td>0.0</td>\n",
       "    </tr>\n",
       "    <tr>\n",
       "      <th>2</th>\n",
       "      <td>#1</td>\n",
       "      <td>1.0</td>\n",
       "      <td>16.0</td>\n",
       "      <td>0.0</td>\n",
       "      <td>0.0</td>\n",
       "    </tr>\n",
       "    <tr>\n",
       "      <th>3</th>\n",
       "      <td>#10</td>\n",
       "      <td>0.0</td>\n",
       "      <td>0.0</td>\n",
       "      <td>0.0</td>\n",
       "      <td>1.0</td>\n",
       "    </tr>\n",
       "    <tr>\n",
       "      <th>4</th>\n",
       "      <td>#100</td>\n",
       "      <td>0.0</td>\n",
       "      <td>1.0</td>\n",
       "      <td>0.0</td>\n",
       "      <td>0.0</td>\n",
       "    </tr>\n",
       "    <tr>\n",
       "      <th>5</th>\n",
       "      <td>#1111SieuSaleLivestreamKhungNhatNam</td>\n",
       "      <td>0.0</td>\n",
       "      <td>9.0</td>\n",
       "      <td>0.0</td>\n",
       "      <td>0.0</td>\n",
       "    </tr>\n",
       "    <tr>\n",
       "      <th>6</th>\n",
       "      <td>#1111ThuThapVoucher1TR5</td>\n",
       "      <td>0.0</td>\n",
       "      <td>1.0</td>\n",
       "      <td>0.0</td>\n",
       "      <td>0.0</td>\n",
       "    </tr>\n",
       "    <tr>\n",
       "      <th>7</th>\n",
       "      <td>#11thGen</td>\n",
       "      <td>0.0</td>\n",
       "      <td>1.0</td>\n",
       "      <td>0.0</td>\n",
       "      <td>0.0</td>\n",
       "    </tr>\n",
       "    <tr>\n",
       "      <th>8</th>\n",
       "      <td>#1212ShopeeLiveSaleSinhNhat</td>\n",
       "      <td>0.0</td>\n",
       "      <td>2.0</td>\n",
       "      <td>0.0</td>\n",
       "      <td>0.0</td>\n",
       "    </tr>\n",
       "    <tr>\n",
       "      <th>9</th>\n",
       "      <td>#1212ThuThapVoucher1TR2</td>\n",
       "      <td>0.0</td>\n",
       "      <td>1.0</td>\n",
       "      <td>0.0</td>\n",
       "      <td>0.0</td>\n",
       "    </tr>\n",
       "  </tbody>\n",
       "</table>\n",
       "</div>"
      ],
      "text/plain": [
       "                               hashtag  multi-sarcasm  not-sarcasm  \\\n",
       "0                                   #0            1.0          0.0   \n",
       "1                                 #098            0.0          1.0   \n",
       "2                                   #1            1.0         16.0   \n",
       "3                                  #10            0.0          0.0   \n",
       "4                                 #100            0.0          1.0   \n",
       "5  #1111SieuSaleLivestreamKhungNhatNam            0.0          9.0   \n",
       "6              #1111ThuThapVoucher1TR5            0.0          1.0   \n",
       "7                             #11thGen            0.0          1.0   \n",
       "8          #1212ShopeeLiveSaleSinhNhat            0.0          2.0   \n",
       "9              #1212ThuThapVoucher1TR2            0.0          1.0   \n",
       "\n",
       "   text-sarcasm  image-sarcasm  \n",
       "0           0.0            0.0  \n",
       "1           0.0            0.0  \n",
       "2           0.0            0.0  \n",
       "3           0.0            1.0  \n",
       "4           0.0            0.0  \n",
       "5           0.0            0.0  \n",
       "6           0.0            0.0  \n",
       "7           0.0            0.0  \n",
       "8           0.0            0.0  \n",
       "9           0.0            0.0  "
      ]
     },
     "execution_count": 36,
     "metadata": {},
     "output_type": "execute_result"
    }
   ],
   "source": [
    "df_hashtags.head(10)"
   ]
  },
  {
   "cell_type": "code",
   "execution_count": null,
   "id": "a45beaa8",
   "metadata": {},
   "outputs": [],
   "source": []
  },
  {
   "cell_type": "code",
   "execution_count": 18,
   "id": "3ea2ae1742ff418e",
   "metadata": {
    "ExecuteTime": {
     "end_time": "2024-10-25T03:46:37.260651Z",
     "start_time": "2024-10-25T03:46:37.234225Z"
    }
   },
   "outputs": [
    {
     "data": {
      "text/html": [
       "<div>\n",
       "<style scoped>\n",
       "    .dataframe tbody tr th:only-of-type {\n",
       "        vertical-align: middle;\n",
       "    }\n",
       "\n",
       "    .dataframe tbody tr th {\n",
       "        vertical-align: top;\n",
       "    }\n",
       "\n",
       "    .dataframe thead th {\n",
       "        text-align: right;\n",
       "    }\n",
       "</style>\n",
       "<table border=\"1\" class=\"dataframe\">\n",
       "  <thead>\n",
       "    <tr style=\"text-align: right;\">\n",
       "      <th></th>\n",
       "      <th>multi-sarcasm</th>\n",
       "      <th>not-sarcasm</th>\n",
       "      <th>text-sarcasm</th>\n",
       "      <th>image-sarcasm</th>\n",
       "      <th>multi_rate</th>\n",
       "      <th>not_rate</th>\n",
       "      <th>image_rate</th>\n",
       "      <th>text_rate</th>\n",
       "    </tr>\n",
       "  </thead>\n",
       "  <tbody>\n",
       "    <tr>\n",
       "      <th>count</th>\n",
       "      <td>1562.000000</td>\n",
       "      <td>1562.000000</td>\n",
       "      <td>1562.000000</td>\n",
       "      <td>1562.000000</td>\n",
       "      <td>1562.000000</td>\n",
       "      <td>1562.000000</td>\n",
       "      <td>1562.000000</td>\n",
       "      <td>1562.000000</td>\n",
       "    </tr>\n",
       "    <tr>\n",
       "      <th>mean</th>\n",
       "      <td>1.000640</td>\n",
       "      <td>1.796415</td>\n",
       "      <td>0.028169</td>\n",
       "      <td>0.206786</td>\n",
       "      <td>0.391180</td>\n",
       "      <td>1.007854</td>\n",
       "      <td>0.008459</td>\n",
       "      <td>0.000201</td>\n",
       "    </tr>\n",
       "    <tr>\n",
       "      <th>std</th>\n",
       "      <td>9.389398</td>\n",
       "      <td>5.772722</td>\n",
       "      <td>0.278139</td>\n",
       "      <td>1.747004</td>\n",
       "      <td>3.670599</td>\n",
       "      <td>3.238708</td>\n",
       "      <td>0.071465</td>\n",
       "      <td>0.001982</td>\n",
       "    </tr>\n",
       "    <tr>\n",
       "      <th>min</th>\n",
       "      <td>0.000000</td>\n",
       "      <td>0.000000</td>\n",
       "      <td>0.000000</td>\n",
       "      <td>0.000000</td>\n",
       "      <td>0.000000</td>\n",
       "      <td>0.000000</td>\n",
       "      <td>0.000000</td>\n",
       "      <td>0.000000</td>\n",
       "    </tr>\n",
       "    <tr>\n",
       "      <th>25%</th>\n",
       "      <td>0.000000</td>\n",
       "      <td>0.000000</td>\n",
       "      <td>0.000000</td>\n",
       "      <td>0.000000</td>\n",
       "      <td>0.000000</td>\n",
       "      <td>0.000000</td>\n",
       "      <td>0.000000</td>\n",
       "      <td>0.000000</td>\n",
       "    </tr>\n",
       "    <tr>\n",
       "      <th>50%</th>\n",
       "      <td>0.000000</td>\n",
       "      <td>1.000000</td>\n",
       "      <td>0.000000</td>\n",
       "      <td>0.000000</td>\n",
       "      <td>0.000000</td>\n",
       "      <td>0.561037</td>\n",
       "      <td>0.000000</td>\n",
       "      <td>0.000000</td>\n",
       "    </tr>\n",
       "    <tr>\n",
       "      <th>75%</th>\n",
       "      <td>1.000000</td>\n",
       "      <td>1.000000</td>\n",
       "      <td>0.000000</td>\n",
       "      <td>0.000000</td>\n",
       "      <td>0.390930</td>\n",
       "      <td>0.561037</td>\n",
       "      <td>0.000000</td>\n",
       "      <td>0.000000</td>\n",
       "    </tr>\n",
       "    <tr>\n",
       "      <th>max</th>\n",
       "      <td>296.000000</td>\n",
       "      <td>149.000000</td>\n",
       "      <td>5.000000</td>\n",
       "      <td>41.000000</td>\n",
       "      <td>115.715317</td>\n",
       "      <td>83.594447</td>\n",
       "      <td>1.677186</td>\n",
       "      <td>0.035632</td>\n",
       "    </tr>\n",
       "  </tbody>\n",
       "</table>\n",
       "</div>"
      ],
      "text/plain": [
       "       multi-sarcasm  not-sarcasm  text-sarcasm  image-sarcasm   multi_rate  \\\n",
       "count    1562.000000  1562.000000   1562.000000    1562.000000  1562.000000   \n",
       "mean        1.000640     1.796415      0.028169       0.206786     0.391180   \n",
       "std         9.389398     5.772722      0.278139       1.747004     3.670599   \n",
       "min         0.000000     0.000000      0.000000       0.000000     0.000000   \n",
       "25%         0.000000     0.000000      0.000000       0.000000     0.000000   \n",
       "50%         0.000000     1.000000      0.000000       0.000000     0.000000   \n",
       "75%         1.000000     1.000000      0.000000       0.000000     0.390930   \n",
       "max       296.000000   149.000000      5.000000      41.000000   115.715317   \n",
       "\n",
       "          not_rate   image_rate    text_rate  \n",
       "count  1562.000000  1562.000000  1562.000000  \n",
       "mean      1.007854     0.008459     0.000201  \n",
       "std       3.238708     0.071465     0.001982  \n",
       "min       0.000000     0.000000     0.000000  \n",
       "25%       0.000000     0.000000     0.000000  \n",
       "50%       0.561037     0.000000     0.000000  \n",
       "75%       0.561037     0.000000     0.000000  \n",
       "max      83.594447     1.677186     0.035632  "
      ]
     },
     "execution_count": 18,
     "metadata": {},
     "output_type": "execute_result"
    }
   ],
   "source": [
    "df_hashtags.describe()"
   ]
  },
  {
   "cell_type": "code",
   "execution_count": 19,
   "id": "e474119e4f9ada8c",
   "metadata": {
    "ExecuteTime": {
     "end_time": "2024-10-25T03:46:40.360022Z",
     "start_time": "2024-10-25T03:46:40.353053Z"
    }
   },
   "outputs": [
    {
     "data": {
      "text/plain": [
       "1563.0"
      ]
     },
     "execution_count": 19,
     "metadata": {},
     "output_type": "execute_result"
    }
   ],
   "source": [
    "sum(x for x in df_hashtags['multi-sarcasm'])"
   ]
  },
  {
   "cell_type": "code",
   "execution_count": 20,
   "id": "d1f5ef9dd1fb1b6c",
   "metadata": {
    "ExecuteTime": {
     "end_time": "2024-10-25T03:46:40.567700Z",
     "start_time": "2024-10-25T03:46:40.562299Z"
    }
   },
   "outputs": [
    {
     "data": {
      "text/plain": [
       "2806.0"
      ]
     },
     "execution_count": 20,
     "metadata": {},
     "output_type": "execute_result"
    }
   ],
   "source": [
    "sum(x for x in df_hashtags['not-sarcasm'])"
   ]
  },
  {
   "cell_type": "code",
   "execution_count": 21,
   "id": "d1a6df118b482816",
   "metadata": {
    "ExecuteTime": {
     "end_time": "2024-10-25T03:46:40.942164Z",
     "start_time": "2024-10-25T03:46:40.934930Z"
    }
   },
   "outputs": [
    {
     "data": {
      "text/plain": [
       "44.0"
      ]
     },
     "execution_count": 21,
     "metadata": {},
     "output_type": "execute_result"
    }
   ],
   "source": [
    "sum(x for x in df_hashtags['text-sarcasm'])"
   ]
  },
  {
   "cell_type": "code",
   "execution_count": 22,
   "id": "5d4787ef324bf82f",
   "metadata": {
    "ExecuteTime": {
     "end_time": "2024-10-25T03:46:41.154433Z",
     "start_time": "2024-10-25T03:46:41.147495Z"
    }
   },
   "outputs": [
    {
     "data": {
      "text/plain": [
       "323.0"
      ]
     },
     "execution_count": 22,
     "metadata": {},
     "output_type": "execute_result"
    }
   ],
   "source": [
    "sum(x for x in df_hashtags['image-sarcasm'])"
   ]
  },
  {
   "cell_type": "markdown",
   "id": "32a70e0efb549e73",
   "metadata": {},
   "source": [
    "# Remove Emoji and Hashtag\n"
   ]
  },
  {
   "cell_type": "code",
   "execution_count": null,
   "id": "899dadf9a7e769ab",
   "metadata": {
    "ExecuteTime": {
     "end_time": "2024-11-10T13:46:26.201097Z",
     "start_time": "2024-11-10T13:46:26.193062Z"
    }
   },
   "outputs": [],
   "source": [
    "import re\n",
    "import emoji\n",
    "\n",
    "def remove_hashtags_and_emojis(input_file, output_file):\n",
    "    \"\"\"\n",
    "    Hàm để loại bỏ hashtag, emoji, URL và chuẩn hóa văn bản trong caption từ file JSON.\n",
    "\n",
    "    Parameters:\n",
    "    - input_file: đường dẫn đến file JSON đầu vào.\n",
    "    - output_file: đường dẫn đến file JSON đầu ra.\n",
    "    \"\"\"\n",
    "    \n",
    "    # Đọc file JSON\n",
    "    with open(input_file, 'r', encoding='utf-8') as file:\n",
    "        data = json.load(file)\n",
    "\n",
    "    # Hàm để loại bỏ hashtag, emoji, URL và chuẩn hóa văn bản\n",
    "    def clean_caption(caption):\n",
    "        # Chuyển đổi caption sang chữ thường\n",
    "        caption = caption.lower()\n",
    "\n",
    "\n",
    "        # Loại bỏ hashtag\n",
    "        caption = re.sub(r'#\\S+', '', caption)  # Loại bỏ hashtag và các từ liền theo sau\n",
    "\n",
    "        # Loại bỏ URL\n",
    "        caption = re.sub(r'http\\S+|www\\S+', '', caption)  # Loại bỏ URL\n",
    "\n",
    "        # # Chuyển đổi emoji thành dạng văn bản\n",
    "        caption = emoji.demojize(caption)\n",
    "        \n",
    "        # Loại bỏ \\n và các ký tự không cần thiết\n",
    "        caption = caption.replace('\\n', '')\n",
    "        caption = re.sub(r'[.,\\\\,:,=,]', '', caption)\n",
    "        \n",
    "        return caption.strip()  \n",
    "\n",
    "    # Cập nhật caption trong dữ liệu\n",
    "    for key, entry in data.items():\n",
    "        entry['caption'] = clean_caption(entry['caption'])\n",
    "\n",
    "    # Ghi dữ liệu đã cập nhật vào file JSON mới\n",
    "    with open(output_file, 'w', encoding='utf-8') as file:\n",
    "        json.dump(data, file, ensure_ascii=False, indent=4)\n"
   ]
  }
 ],
 "metadata": {
  "kernelspec": {
   "display_name": "venv",
   "language": "python",
   "name": "python3"
  },
  "language_info": {
   "codemirror_mode": {
    "name": "ipython",
    "version": 3
   },
   "file_extension": ".py",
   "mimetype": "text/x-python",
   "name": "python",
   "nbconvert_exporter": "python",
   "pygments_lexer": "ipython3",
   "version": "3.11.9"
  }
 },
 "nbformat": 4,
 "nbformat_minor": 5
}
