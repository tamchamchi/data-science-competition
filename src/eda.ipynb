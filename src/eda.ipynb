{
 "cells": [
  {
   "cell_type": "code",
   "id": "initial_id",
   "metadata": {
    "collapsed": true,
    "ExecuteTime": {
     "end_time": "2024-10-31T04:01:41.681794Z",
     "start_time": "2024-10-31T04:01:10.890918Z"
    }
   },
   "source": [
    "import torch\n",
    "from jupyter_lsp.specs import json\n",
    "from sklearn.preprocessing import LabelEncoder\n",
    "\n",
    "print(\"cuda\" if torch.cuda.is_available() else \"cpu\")"
   ],
   "outputs": [
    {
     "name": "stdout",
     "output_type": "stream",
     "text": [
      "cuda\n"
     ]
    }
   ],
   "execution_count": 1
  },
  {
   "metadata": {
    "ExecuteTime": {
     "end_time": "2024-11-11T07:38:53.901182Z",
     "start_time": "2024-11-11T07:38:25.863609Z"
    }
   },
   "cell_type": "code",
   "source": [
    "#import library\n",
    "import numpy as np\n",
    "import pandas as pd\n",
    "import json\n",
    "import matplotlib.pyplot as plt\n",
    "import re\n",
    "import emoji\n",
    "from underthesea import text_normalize\n",
    "\n"
   ],
   "id": "1eeade3172c8ccc4",
   "outputs": [
    {
     "name": "stderr",
     "output_type": "stream",
     "text": [
      "F:\\ds_competition\\venv\\Lib\\site-packages\\tqdm\\auto.py:21: TqdmWarning: IProgress not found. Please update jupyter and ipywidgets. See https://ipywidgets.readthedocs.io/en/stable/user_install.html\n",
      "  from .autonotebook import tqdm as notebook_tqdm\n"
     ]
    }
   ],
   "execution_count": 1
  },
  {
   "metadata": {
    "ExecuteTime": {
     "end_time": "2024-11-10T13:41:09.042891Z",
     "start_time": "2024-11-10T13:41:09.039336Z"
    }
   },
   "cell_type": "code",
   "source": [
    "data_predict_path = {\n",
    "    'json': r\"F:\\ds_competition\\Data_test_public\\vimmsd-public-test.json\",\n",
    "    'images': r\"F:\\ds_competition\\Data_test_public\\public-test-images\\dev-images\"\n",
    "}\n",
    "\n",
    "data_path = {\n",
    "    'json': r'F:\\ds_competition\\Data_train\\vimmsd-train.json',\n",
    "    'images': r'F:\\ds_competition\\Data_train\\training-images\\train-images'\n",
    "}"
   ],
   "id": "cd10278c3d1f9950",
   "outputs": [],
   "execution_count": 6
  },
  {
   "metadata": {},
   "cell_type": "markdown",
   "source": "# Them text_sarcasm",
   "id": "f24c662796a3d05a"
  },
  {
   "metadata": {
    "ExecuteTime": {
     "end_time": "2024-11-10T13:41:23.558406Z",
     "start_time": "2024-11-10T13:41:23.469009Z"
    }
   },
   "cell_type": "code",
   "source": [
    "with open(data_path['json'], 'r', encoding='utf-8') as f:\n",
    "    data = json.load(f)\n",
    "    "
   ],
   "id": "936c5833f26a4d1f",
   "outputs": [],
   "execution_count": 7
  },
  {
   "metadata": {
    "ExecuteTime": {
     "end_time": "2024-11-10T13:41:24.983804Z",
     "start_time": "2024-11-10T13:41:24.975860Z"
    }
   },
   "cell_type": "code",
   "source": [
    "# Tìm và giữ lại các mục không có label là 'text-sarcasm'\n",
    "filtered_data = {key: value for key, value in data.items() if value.get('label') != 'text-sarcasm'}\n",
    "\n",
    "# Đánh số lại các key từ 0\n",
    "updated_data = {str(index): value for index, (key, value) in enumerate(filtered_data.items())}"
   ],
   "id": "331f2574ffba7688",
   "outputs": [],
   "execution_count": 8
  },
  {
   "metadata": {
    "ExecuteTime": {
     "end_time": "2024-11-10T13:41:26.679977Z",
     "start_time": "2024-11-10T13:41:26.672808Z"
    }
   },
   "cell_type": "code",
   "source": "len(updated_data)",
   "id": "edbd4612fccf030a",
   "outputs": [
    {
     "data": {
      "text/plain": [
       "10728"
      ]
     },
     "execution_count": 9,
     "metadata": {},
     "output_type": "execute_result"
    }
   ],
   "execution_count": 9
  },
  {
   "metadata": {
    "ExecuteTime": {
     "end_time": "2024-11-10T13:42:32.396847Z",
     "start_time": "2024-11-10T13:42:32.390918Z"
    }
   },
   "cell_type": "code",
   "source": [
    "with open(r'F:\\ds_competition\\results\\augmented_data_text_sc.json', 'r', encoding='utf-8') as f:\n",
    "    data_aug_text_sarcasm = json.load(f)"
   ],
   "id": "91166608383af064",
   "outputs": [],
   "execution_count": 10
  },
  {
   "metadata": {
    "ExecuteTime": {
     "end_time": "2024-11-10T13:42:36.196690Z",
     "start_time": "2024-11-10T13:42:36.190316Z"
    }
   },
   "cell_type": "code",
   "source": [
    "# Tìm key lớn nhất của data1 và bắt đầu từ đó\n",
    "max_key = max(map(int, updated_data.keys())) if updated_data else -1\n",
    "max_key"
   ],
   "id": "cdedf096724e28a6",
   "outputs": [
    {
     "data": {
      "text/plain": [
       "10727"
      ]
     },
     "execution_count": 11,
     "metadata": {},
     "output_type": "execute_result"
    }
   ],
   "execution_count": 11
  },
  {
   "metadata": {
    "ExecuteTime": {
     "end_time": "2024-11-10T13:42:38.791067Z",
     "start_time": "2024-11-10T13:42:38.785564Z"
    }
   },
   "cell_type": "code",
   "source": [
    "# Tăng key của data2 lên và nối vào data1\n",
    "for i, (key, value) in enumerate(data_aug_text_sarcasm.items(), start=max_key + 1):\n",
    "    updated_data[str(i)] = value"
   ],
   "id": "e3ffc16fc746fc00",
   "outputs": [],
   "execution_count": 12
  },
  {
   "metadata": {
    "ExecuteTime": {
     "end_time": "2024-11-10T13:42:40.108201Z",
     "start_time": "2024-11-10T13:42:40.102013Z"
    }
   },
   "cell_type": "code",
   "source": "len(updated_data)",
   "id": "7d1cf6647853d376",
   "outputs": [
    {
     "data": {
      "text/plain": [
       "11094"
      ]
     },
     "execution_count": 13,
     "metadata": {},
     "output_type": "execute_result"
    }
   ],
   "execution_count": 13
  },
  {
   "metadata": {
    "ExecuteTime": {
     "end_time": "2024-11-10T13:42:46.143834Z",
     "start_time": "2024-11-10T13:42:46.038810Z"
    }
   },
   "cell_type": "code",
   "source": [
    "# Ghi dữ liệu hợp nhất vào file mới\n",
    "with open('data_augment_text_sarcasm.json', 'w', encoding='utf-8') as f_out:\n",
    "    json.dump(updated_data, f_out, indent=4, ensure_ascii=False)"
   ],
   "id": "ecd9a4c2c29940e2",
   "outputs": [],
   "execution_count": 14
  },
  {
   "metadata": {},
   "cell_type": "markdown",
   "source": "# ádfasdfasdf",
   "id": "16c251e3a5c22740"
  },
  {
   "metadata": {
    "ExecuteTime": {
     "end_time": "2024-11-10T11:08:27.523745Z",
     "start_time": "2024-11-10T11:08:27.518196Z"
    }
   },
   "cell_type": "code",
   "source": [
    "def load_data(path):\n",
    "    with open(path, 'r', encoding='utf-8') as f:\n",
    "        f = json.load(f)\n",
    "    data = pd.DataFrame.from_dict(f, orient='index')\n",
    "    return data\n"
   ],
   "id": "4ed21181aecac24f",
   "outputs": [],
   "execution_count": 2
  },
  {
   "metadata": {
    "ExecuteTime": {
     "end_time": "2024-11-10T11:08:45.739123Z",
     "start_time": "2024-11-10T11:08:45.684738Z"
    }
   },
   "cell_type": "code",
   "source": [
    "df = load_data(r'F:\\ds_competition\\Data_private\\vimmsd-private-test.json')\n",
    "df.head()"
   ],
   "id": "673bc1eee987acfd",
   "outputs": [
    {
     "data": {
      "text/plain": [
       "                                               image  \\\n",
       "0  066d6021fdfeaf39f1dec523879e8fe4d35e877abcea44...   \n",
       "1  555f4787d4df49e7be743b3d5b77c90755f0d6c351f36b...   \n",
       "2  7b7cdea2cde1f3f93371259b587a03f2e8c0af682b4d51...   \n",
       "3  80167e59d729cf3aaba5d2d3da40db6995cb8a6a8c4a88...   \n",
       "4  59db087307031d60755af3a5c01a44ba55a04bfab21027...   \n",
       "\n",
       "                                             caption label  \n",
       "0  Song Joong Ki &amp; Song Hye Kyo đều tham dự B...  None  \n",
       "1  Song Joong Ki &amp; Song Hye Kyo đều tham dự B...  None  \n",
       "2  Song Joong Ki &amp; Song Hye Kyo đều tham dự B...  None  \n",
       "3  Song Joong Ki &amp; Song Hye Kyo đều tham dự B...  None  \n",
       "4                                  Ngang trái thậc 🤣  None  "
      ],
      "text/html": [
       "<div>\n",
       "<style scoped>\n",
       "    .dataframe tbody tr th:only-of-type {\n",
       "        vertical-align: middle;\n",
       "    }\n",
       "\n",
       "    .dataframe tbody tr th {\n",
       "        vertical-align: top;\n",
       "    }\n",
       "\n",
       "    .dataframe thead th {\n",
       "        text-align: right;\n",
       "    }\n",
       "</style>\n",
       "<table border=\"1\" class=\"dataframe\">\n",
       "  <thead>\n",
       "    <tr style=\"text-align: right;\">\n",
       "      <th></th>\n",
       "      <th>image</th>\n",
       "      <th>caption</th>\n",
       "      <th>label</th>\n",
       "    </tr>\n",
       "  </thead>\n",
       "  <tbody>\n",
       "    <tr>\n",
       "      <th>0</th>\n",
       "      <td>066d6021fdfeaf39f1dec523879e8fe4d35e877abcea44...</td>\n",
       "      <td>Song Joong Ki &amp;amp; Song Hye Kyo đều tham dự B...</td>\n",
       "      <td>None</td>\n",
       "    </tr>\n",
       "    <tr>\n",
       "      <th>1</th>\n",
       "      <td>555f4787d4df49e7be743b3d5b77c90755f0d6c351f36b...</td>\n",
       "      <td>Song Joong Ki &amp;amp; Song Hye Kyo đều tham dự B...</td>\n",
       "      <td>None</td>\n",
       "    </tr>\n",
       "    <tr>\n",
       "      <th>2</th>\n",
       "      <td>7b7cdea2cde1f3f93371259b587a03f2e8c0af682b4d51...</td>\n",
       "      <td>Song Joong Ki &amp;amp; Song Hye Kyo đều tham dự B...</td>\n",
       "      <td>None</td>\n",
       "    </tr>\n",
       "    <tr>\n",
       "      <th>3</th>\n",
       "      <td>80167e59d729cf3aaba5d2d3da40db6995cb8a6a8c4a88...</td>\n",
       "      <td>Song Joong Ki &amp;amp; Song Hye Kyo đều tham dự B...</td>\n",
       "      <td>None</td>\n",
       "    </tr>\n",
       "    <tr>\n",
       "      <th>4</th>\n",
       "      <td>59db087307031d60755af3a5c01a44ba55a04bfab21027...</td>\n",
       "      <td>Ngang trái thậc 🤣</td>\n",
       "      <td>None</td>\n",
       "    </tr>\n",
       "  </tbody>\n",
       "</table>\n",
       "</div>"
      ]
     },
     "execution_count": 3,
     "metadata": {},
     "output_type": "execute_result"
    }
   ],
   "execution_count": 3
  },
  {
   "metadata": {
    "ExecuteTime": {
     "end_time": "2024-11-07T16:51:24.643836Z",
     "start_time": "2024-11-07T16:51:24.627964Z"
    }
   },
   "cell_type": "code",
   "source": [
    "import pandas as pd\n",
    "\n",
    "# Giả sử df là DataFrame ban đầu với các cột 'caption' và 'label'\n",
    "# Lọc các giá trị trùng lặp trong cột 'caption'\n",
    "duplicates = df[df.duplicated(subset=['caption'], keep=False)]\n",
    "\n",
    "# Đếm số lần xuất hiện cho từng loại label trên các giá trị 'caption' bị trùng\n",
    "result = (\n",
    "    duplicates.groupby(['caption', 'label'])\n",
    "    .size()\n",
    "    .unstack(fill_value=0)\n",
    "    .reset_index()\n",
    "    .rename_axis(None, axis=1)\n",
    ")\n",
    "\n",
    "# Đổi tên các cột để dễ hiểu hơn\n",
    "result.columns = ['caption', 'not-sarcasm', 'text-sarcasm', 'image-sarcasm', 'multi-sarcasm']\n"
   ],
   "id": "d9906b273ac2432",
   "outputs": [],
   "execution_count": 15
  },
  {
   "metadata": {
    "ExecuteTime": {
     "end_time": "2024-11-07T16:57:30.402770Z",
     "start_time": "2024-11-07T16:57:30.372729Z"
    }
   },
   "cell_type": "code",
   "source": [
    "# Xuất DataFrame 'result' ra file CSV\n",
    "result.to_csv('caption_duplicates.csv', index=False)"
   ],
   "id": "79168b1c69e3ae63",
   "outputs": [],
   "execution_count": 17
  },
  {
   "metadata": {
    "ExecuteTime": {
     "end_time": "2024-11-07T18:22:47.982332Z",
     "start_time": "2024-11-07T18:22:47.972639Z"
    }
   },
   "cell_type": "code",
   "source": "result",
   "id": "9966a90e43a109df",
   "outputs": [
    {
     "data": {
      "text/plain": [
       "                                               caption  not-sarcasm  \\\n",
       "0    \"BƠI ĐÊM\" CÓ NGÀY GẶP ...?\\nGia đình Waller gồ...            0   \n",
       "1    \"Lấy Mẻ bôi kín những chỗ bám bẩn xong để qua ...            0   \n",
       "2    \"MẠNG XÃ HỘI ZING ME CHÍNH THỨC RA MẮT GIỚI TR...            0   \n",
       "3    \"Những tổn thương ấy vẫn luôn ở đây, chẳng qua...            0   \n",
       "4    \"Tý về ông già chửi tau chớt luôn á\" - Con giờ...            0   \n",
       "..                                                 ...          ...   \n",
       "692  🥕🥕RA MẮT ÁO THUN STREET STYLE THỎ BẢY MÀU SS1🥕...            0   \n",
       "693                                                  🥰            2   \n",
       "694                                     🥰🥰😍😍🥰🥰😍😌😍🥰🥰🥲🙂😚            0   \n",
       "695                                                  🥲            0   \n",
       "696                                                🫡🇻🇳            0   \n",
       "\n",
       "     text-sarcasm  image-sarcasm  multi-sarcasm  \n",
       "0               0              4              0  \n",
       "1               0              2              0  \n",
       "2               0              5              0  \n",
       "3               0              4              0  \n",
       "4               0              4              0  \n",
       "..            ...            ...            ...  \n",
       "692             0              5              0  \n",
       "693             0              1              0  \n",
       "694             0              5              0  \n",
       "695             2              0              0  \n",
       "696             0              2              0  \n",
       "\n",
       "[697 rows x 5 columns]"
      ],
      "text/html": [
       "<div>\n",
       "<style scoped>\n",
       "    .dataframe tbody tr th:only-of-type {\n",
       "        vertical-align: middle;\n",
       "    }\n",
       "\n",
       "    .dataframe tbody tr th {\n",
       "        vertical-align: top;\n",
       "    }\n",
       "\n",
       "    .dataframe thead th {\n",
       "        text-align: right;\n",
       "    }\n",
       "</style>\n",
       "<table border=\"1\" class=\"dataframe\">\n",
       "  <thead>\n",
       "    <tr style=\"text-align: right;\">\n",
       "      <th></th>\n",
       "      <th>caption</th>\n",
       "      <th>not-sarcasm</th>\n",
       "      <th>text-sarcasm</th>\n",
       "      <th>image-sarcasm</th>\n",
       "      <th>multi-sarcasm</th>\n",
       "    </tr>\n",
       "  </thead>\n",
       "  <tbody>\n",
       "    <tr>\n",
       "      <th>0</th>\n",
       "      <td>\"BƠI ĐÊM\" CÓ NGÀY GẶP ...?\\nGia đình Waller gồ...</td>\n",
       "      <td>0</td>\n",
       "      <td>0</td>\n",
       "      <td>4</td>\n",
       "      <td>0</td>\n",
       "    </tr>\n",
       "    <tr>\n",
       "      <th>1</th>\n",
       "      <td>\"Lấy Mẻ bôi kín những chỗ bám bẩn xong để qua ...</td>\n",
       "      <td>0</td>\n",
       "      <td>0</td>\n",
       "      <td>2</td>\n",
       "      <td>0</td>\n",
       "    </tr>\n",
       "    <tr>\n",
       "      <th>2</th>\n",
       "      <td>\"MẠNG XÃ HỘI ZING ME CHÍNH THỨC RA MẮT GIỚI TR...</td>\n",
       "      <td>0</td>\n",
       "      <td>0</td>\n",
       "      <td>5</td>\n",
       "      <td>0</td>\n",
       "    </tr>\n",
       "    <tr>\n",
       "      <th>3</th>\n",
       "      <td>\"Những tổn thương ấy vẫn luôn ở đây, chẳng qua...</td>\n",
       "      <td>0</td>\n",
       "      <td>0</td>\n",
       "      <td>4</td>\n",
       "      <td>0</td>\n",
       "    </tr>\n",
       "    <tr>\n",
       "      <th>4</th>\n",
       "      <td>\"Tý về ông già chửi tau chớt luôn á\" - Con giờ...</td>\n",
       "      <td>0</td>\n",
       "      <td>0</td>\n",
       "      <td>4</td>\n",
       "      <td>0</td>\n",
       "    </tr>\n",
       "    <tr>\n",
       "      <th>...</th>\n",
       "      <td>...</td>\n",
       "      <td>...</td>\n",
       "      <td>...</td>\n",
       "      <td>...</td>\n",
       "      <td>...</td>\n",
       "    </tr>\n",
       "    <tr>\n",
       "      <th>692</th>\n",
       "      <td>🥕🥕RA MẮT ÁO THUN STREET STYLE THỎ BẢY MÀU SS1🥕...</td>\n",
       "      <td>0</td>\n",
       "      <td>0</td>\n",
       "      <td>5</td>\n",
       "      <td>0</td>\n",
       "    </tr>\n",
       "    <tr>\n",
       "      <th>693</th>\n",
       "      <td>🥰</td>\n",
       "      <td>2</td>\n",
       "      <td>0</td>\n",
       "      <td>1</td>\n",
       "      <td>0</td>\n",
       "    </tr>\n",
       "    <tr>\n",
       "      <th>694</th>\n",
       "      <td>🥰🥰😍😍🥰🥰😍😌😍🥰🥰🥲🙂😚</td>\n",
       "      <td>0</td>\n",
       "      <td>0</td>\n",
       "      <td>5</td>\n",
       "      <td>0</td>\n",
       "    </tr>\n",
       "    <tr>\n",
       "      <th>695</th>\n",
       "      <td>🥲</td>\n",
       "      <td>0</td>\n",
       "      <td>2</td>\n",
       "      <td>0</td>\n",
       "      <td>0</td>\n",
       "    </tr>\n",
       "    <tr>\n",
       "      <th>696</th>\n",
       "      <td>🫡🇻🇳</td>\n",
       "      <td>0</td>\n",
       "      <td>0</td>\n",
       "      <td>2</td>\n",
       "      <td>0</td>\n",
       "    </tr>\n",
       "  </tbody>\n",
       "</table>\n",
       "<p>697 rows × 5 columns</p>\n",
       "</div>"
      ]
     },
     "execution_count": 58,
     "metadata": {},
     "output_type": "execute_result"
    }
   ],
   "execution_count": 58
  },
  {
   "metadata": {
    "ExecuteTime": {
     "end_time": "2024-11-07T18:07:31.247349Z",
     "start_time": "2024-11-07T18:07:31.243618Z"
    }
   },
   "cell_type": "code",
   "source": "duplicate_captions = result['caption'].tolist()",
   "id": "83670ace76d9a2d5",
   "outputs": [],
   "execution_count": 47
  },
  {
   "metadata": {},
   "cell_type": "markdown",
   "source": "# handle duplicate with ocr",
   "id": "e6200ae9b3ac567b"
  },
  {
   "metadata": {},
   "cell_type": "code",
   "outputs": [],
   "execution_count": null,
   "source": [
    "# def handle_duplicate_with_ocr(input_path, output_path, duplicate_captions = duplicate_captions):\n",
    "#     with open(input_path, 'r', encoding='utf-8') as f:\n",
    "#         data = json.load(f)\n",
    "#         \n",
    "#         for key, value in data.items():\n",
    "#             if value['caption'] in duplicate_captions:\n",
    "#                 value['caption'] = value['text_image'] + ' ' + value['caption']\n",
    "#         \n",
    "#     # Ghi dữ liệu ra file JSON mới\n",
    "#     with open(output_path, 'w', encoding='utf-8') as file:\n",
    "#         json.dump(data, file, ensure_ascii=False, indent=4)\n",
    "#         \n",
    "# input_train_path = r'F:\\ds_competition\\processed_train_demoji_remove_hashtag_url_have_orc.json'\n",
    "# output_train_path = 'updated_data_train_handle_duplicates.json'\n",
    "# handle_duplicate_with_ocr(input_train_path, output_train_path)\n",
    "# \n",
    "# input_pred_path = r''"
   ],
   "id": "b96969f9d49580d7"
  },
  {
   "metadata": {},
   "cell_type": "code",
   "outputs": [],
   "execution_count": null,
   "source": "",
   "id": "c74991cb7862753e"
  },
  {
   "metadata": {},
   "cell_type": "code",
   "source": "df.info()",
   "id": "fddcb56cf37ee82a",
   "outputs": [],
   "execution_count": null
  },
  {
   "metadata": {},
   "cell_type": "code",
   "source": "df['label'].unique()",
   "id": "221544fe1b449cef",
   "outputs": [],
   "execution_count": null
  },
  {
   "metadata": {
    "ExecuteTime": {
     "end_time": "2024-11-02T08:04:06.211154Z",
     "start_time": "2024-11-02T08:04:06.202747Z"
    }
   },
   "cell_type": "code",
   "source": [
    "encoded_label = {\n",
    "    'not-sarcasm': 0,\n",
    "    'image-sarcasm': 1,\n",
    "    'text-sarcasm': 2,\n",
    "    'multi-sarcasm': 3,\n",
    "}\n",
    "labels = ['multi-sarcasm', 'not-sarcasm', 'image-sarcasm', 'text-sarcasm']\n",
    "\n",
    "df['encoded_label'] = df['label'].apply(lambda x: encoded_label[x])\n"
   ],
   "id": "3d3c50005b2673b2",
   "outputs": [],
   "execution_count": 8
  },
  {
   "metadata": {},
   "cell_type": "code",
   "source": "df['label'].value_counts()",
   "id": "c1db9c3778547066",
   "outputs": [],
   "execution_count": null
  },
  {
   "metadata": {
    "ExecuteTime": {
     "end_time": "2024-11-02T08:04:06.562974Z",
     "start_time": "2024-11-02T08:04:06.559885Z"
    }
   },
   "cell_type": "code",
   "source": "",
   "id": "8cf723fa233f8a68",
   "outputs": [],
   "execution_count": null
  },
  {
   "metadata": {
    "ExecuteTime": {
     "end_time": "2024-11-02T08:04:06.644074Z",
     "start_time": "2024-11-02T08:04:06.640370Z"
    }
   },
   "cell_type": "code",
   "source": [
    "# from transformers import AutoTokenizer\n",
    "# \n",
    "# # Tải tokenizer cho PhoBERT\n",
    "# tokenizer = AutoTokenizer.from_pretrained(\"vinai/phobert-base-v2\")\n",
    "# \n",
    "# # Tính số lượng token cho mỗi caption\n",
    "# df['num_token_bert'] = df['caption'].apply(lambda x: len(tokenizer(x)['input_ids']))\n"
   ],
   "id": "71ffd4ed17f85d85",
   "outputs": [],
   "execution_count": 10
  },
  {
   "metadata": {
    "ExecuteTime": {
     "end_time": "2024-11-02T08:04:06.827357Z",
     "start_time": "2024-11-02T08:04:06.817672Z"
    }
   },
   "cell_type": "code",
   "source": "df.describe()",
   "id": "90babb13a0019917",
   "outputs": [
    {
     "data": {
      "text/plain": [
       "       encoded_label\n",
       "count    10805.00000\n",
       "mean         1.22795\n",
       "std          1.44226\n",
       "min          0.00000\n",
       "25%          0.00000\n",
       "50%          0.00000\n",
       "75%          3.00000\n",
       "max          3.00000"
      ],
      "text/html": [
       "<div>\n",
       "<style scoped>\n",
       "    .dataframe tbody tr th:only-of-type {\n",
       "        vertical-align: middle;\n",
       "    }\n",
       "\n",
       "    .dataframe tbody tr th {\n",
       "        vertical-align: top;\n",
       "    }\n",
       "\n",
       "    .dataframe thead th {\n",
       "        text-align: right;\n",
       "    }\n",
       "</style>\n",
       "<table border=\"1\" class=\"dataframe\">\n",
       "  <thead>\n",
       "    <tr style=\"text-align: right;\">\n",
       "      <th></th>\n",
       "      <th>encoded_label</th>\n",
       "    </tr>\n",
       "  </thead>\n",
       "  <tbody>\n",
       "    <tr>\n",
       "      <th>count</th>\n",
       "      <td>10805.00000</td>\n",
       "    </tr>\n",
       "    <tr>\n",
       "      <th>mean</th>\n",
       "      <td>1.22795</td>\n",
       "    </tr>\n",
       "    <tr>\n",
       "      <th>std</th>\n",
       "      <td>1.44226</td>\n",
       "    </tr>\n",
       "    <tr>\n",
       "      <th>min</th>\n",
       "      <td>0.00000</td>\n",
       "    </tr>\n",
       "    <tr>\n",
       "      <th>25%</th>\n",
       "      <td>0.00000</td>\n",
       "    </tr>\n",
       "    <tr>\n",
       "      <th>50%</th>\n",
       "      <td>0.00000</td>\n",
       "    </tr>\n",
       "    <tr>\n",
       "      <th>75%</th>\n",
       "      <td>3.00000</td>\n",
       "    </tr>\n",
       "    <tr>\n",
       "      <th>max</th>\n",
       "      <td>3.00000</td>\n",
       "    </tr>\n",
       "  </tbody>\n",
       "</table>\n",
       "</div>"
      ]
     },
     "execution_count": 11,
     "metadata": {},
     "output_type": "execute_result"
    }
   ],
   "execution_count": 11
  },
  {
   "metadata": {
    "ExecuteTime": {
     "end_time": "2024-11-02T08:04:06.904313Z",
     "start_time": "2024-11-02T08:04:06.900252Z"
    }
   },
   "cell_type": "code",
   "source": "# df['num_token_bert'].value_counts()",
   "id": "ca4c7e2ef61c1648",
   "outputs": [],
   "execution_count": 12
  },
  {
   "metadata": {},
   "cell_type": "markdown",
   "source": "# phân tích emoji",
   "id": "aaa3b3a90f6ba990"
  },
  {
   "metadata": {
    "ExecuteTime": {
     "end_time": "2024-11-02T08:04:07.043040Z",
     "start_time": "2024-11-02T08:04:07.034037Z"
    }
   },
   "cell_type": "code",
   "source": "df.head()",
   "id": "f12f2d11bcd94f64",
   "outputs": [
    {
     "data": {
      "text/plain": [
       "                                               image  \\\n",
       "0  8ae451edcd8ebf697f8763ece249115813149c55733bf8...   \n",
       "1  35370ffd6c791d6f8c4ab3dd4363ed468fab41e4824ee9...   \n",
       "2  316fdd1477725b9fb1a55015ac06b68b92b50bd4303e08...   \n",
       "3  8a0f34e0e30e4e5cfb306933c1d25fa801a5da78646b59...   \n",
       "4  e517a5e95d1065886a7c815e82fe254381d4f9f4b244d4...   \n",
       "\n",
       "                                             caption          label  \\\n",
       "0            Cô ấy trên mạng vs cô ấy ngoài đời =)))  multi-sarcasm   \n",
       "1    Người tâm linh giao tiếp với người thực tế :)))    not-sarcasm   \n",
       "2  Hình như Trăng hôm nay đẹp quá mọi người ạ! 😃 ...  multi-sarcasm   \n",
       "3  MỌI NGƯỜI NGHĨ SAO VỀ PHÁT BIỂU CỦA SHARK VIỆT...    not-sarcasm   \n",
       "4        2 tay hai nàng chứ việc gì phải lệ hai hàng  multi-sarcasm   \n",
       "\n",
       "   encoded_label  \n",
       "0              3  \n",
       "1              0  \n",
       "2              3  \n",
       "3              0  \n",
       "4              3  "
      ],
      "text/html": [
       "<div>\n",
       "<style scoped>\n",
       "    .dataframe tbody tr th:only-of-type {\n",
       "        vertical-align: middle;\n",
       "    }\n",
       "\n",
       "    .dataframe tbody tr th {\n",
       "        vertical-align: top;\n",
       "    }\n",
       "\n",
       "    .dataframe thead th {\n",
       "        text-align: right;\n",
       "    }\n",
       "</style>\n",
       "<table border=\"1\" class=\"dataframe\">\n",
       "  <thead>\n",
       "    <tr style=\"text-align: right;\">\n",
       "      <th></th>\n",
       "      <th>image</th>\n",
       "      <th>caption</th>\n",
       "      <th>label</th>\n",
       "      <th>encoded_label</th>\n",
       "    </tr>\n",
       "  </thead>\n",
       "  <tbody>\n",
       "    <tr>\n",
       "      <th>0</th>\n",
       "      <td>8ae451edcd8ebf697f8763ece249115813149c55733bf8...</td>\n",
       "      <td>Cô ấy trên mạng vs cô ấy ngoài đời =)))</td>\n",
       "      <td>multi-sarcasm</td>\n",
       "      <td>3</td>\n",
       "    </tr>\n",
       "    <tr>\n",
       "      <th>1</th>\n",
       "      <td>35370ffd6c791d6f8c4ab3dd4363ed468fab41e4824ee9...</td>\n",
       "      <td>Người tâm linh giao tiếp với người thực tế :)))</td>\n",
       "      <td>not-sarcasm</td>\n",
       "      <td>0</td>\n",
       "    </tr>\n",
       "    <tr>\n",
       "      <th>2</th>\n",
       "      <td>316fdd1477725b9fb1a55015ac06b68b92b50bd4303e08...</td>\n",
       "      <td>Hình như Trăng hôm nay đẹp quá mọi người ạ! 😃 ...</td>\n",
       "      <td>multi-sarcasm</td>\n",
       "      <td>3</td>\n",
       "    </tr>\n",
       "    <tr>\n",
       "      <th>3</th>\n",
       "      <td>8a0f34e0e30e4e5cfb306933c1d25fa801a5da78646b59...</td>\n",
       "      <td>MỌI NGƯỜI NGHĨ SAO VỀ PHÁT BIỂU CỦA SHARK VIỆT...</td>\n",
       "      <td>not-sarcasm</td>\n",
       "      <td>0</td>\n",
       "    </tr>\n",
       "    <tr>\n",
       "      <th>4</th>\n",
       "      <td>e517a5e95d1065886a7c815e82fe254381d4f9f4b244d4...</td>\n",
       "      <td>2 tay hai nàng chứ việc gì phải lệ hai hàng</td>\n",
       "      <td>multi-sarcasm</td>\n",
       "      <td>3</td>\n",
       "    </tr>\n",
       "  </tbody>\n",
       "</table>\n",
       "</div>"
      ]
     },
     "execution_count": 13,
     "metadata": {},
     "output_type": "execute_result"
    }
   ],
   "execution_count": 13
  },
  {
   "metadata": {
    "ExecuteTime": {
     "end_time": "2024-11-10T11:10:33.977609Z",
     "start_time": "2024-11-10T11:10:33.885481Z"
    }
   },
   "cell_type": "code",
   "source": [
    "import emoji\n",
    "\n",
    "# Tạo DataFrame để lưu trữ kết quả\n",
    "df_emoji = pd.DataFrame(columns=['emoji'])\n",
    "\n",
    "\n",
    "# Hàm để tìm emoji trong một chuỗi\n",
    "def extract_emojis(text):\n",
    "    return [char for char in text if emoji.is_emoji(char)]\n",
    "\n",
    "\n",
    "labels = ['multi-sarcasm', 'not-sarcasm', 'text-sarcasm', 'image-sarcasm']\n",
    "# Đếm số lần xuất hiện của mỗi emoji trong từng lớp\n",
    "for label in labels:\n",
    "    # Lọc DataFrame theo label\n",
    "    # filtered_df = df[df['label'] == label]\n",
    "\n",
    "    # Tìm tất cả các emoji trong cột và tách ra thành từng hàng\n",
    "    all_emojis = df['caption'].apply(extract_emojis).explode()\n",
    "\n",
    "    # Đếm số lần xuất hiện của từng emoji\n",
    "    emoji_counts = all_emojis.value_counts().reset_index()\n",
    "    emoji_counts.columns = ['emoji', label]\n",
    "    df_emoji = df_emoji.merge(emoji_counts, on='emoji', how='outer')\n",
    "\n",
    "df_emoji = df_emoji.fillna(0)"
   ],
   "id": "1927c2788daa9f4b",
   "outputs": [],
   "execution_count": 8
  },
  {
   "metadata": {
    "ExecuteTime": {
     "end_time": "2024-11-10T11:10:34.568378Z",
     "start_time": "2024-11-10T11:10:34.559308Z"
    }
   },
   "cell_type": "code",
   "source": "df_emoji",
   "id": "a6bef39470cdb269",
   "outputs": [
    {
     "data": {
      "text/plain": [
       "    emoji  multi-sarcasm  not-sarcasm  text-sarcasm  image-sarcasm\n",
       "0       ‼              7            7             7              7\n",
       "1       ™              1            1             1              1\n",
       "2       ☠              5            5             5              5\n",
       "3       ☺              1            1             1              1\n",
       "4       ♂              2            2             2              2\n",
       "..    ...            ...          ...           ...            ...\n",
       "98      🫡              1            1             1              1\n",
       "99      🫰              4            4             4              4\n",
       "100     🫳              1            1             1              1\n",
       "101     🫵              4            4             4              4\n",
       "102     🫶              9            9             9              9\n",
       "\n",
       "[103 rows x 5 columns]"
      ],
      "text/html": [
       "<div>\n",
       "<style scoped>\n",
       "    .dataframe tbody tr th:only-of-type {\n",
       "        vertical-align: middle;\n",
       "    }\n",
       "\n",
       "    .dataframe tbody tr th {\n",
       "        vertical-align: top;\n",
       "    }\n",
       "\n",
       "    .dataframe thead th {\n",
       "        text-align: right;\n",
       "    }\n",
       "</style>\n",
       "<table border=\"1\" class=\"dataframe\">\n",
       "  <thead>\n",
       "    <tr style=\"text-align: right;\">\n",
       "      <th></th>\n",
       "      <th>emoji</th>\n",
       "      <th>multi-sarcasm</th>\n",
       "      <th>not-sarcasm</th>\n",
       "      <th>text-sarcasm</th>\n",
       "      <th>image-sarcasm</th>\n",
       "    </tr>\n",
       "  </thead>\n",
       "  <tbody>\n",
       "    <tr>\n",
       "      <th>0</th>\n",
       "      <td>‼</td>\n",
       "      <td>7</td>\n",
       "      <td>7</td>\n",
       "      <td>7</td>\n",
       "      <td>7</td>\n",
       "    </tr>\n",
       "    <tr>\n",
       "      <th>1</th>\n",
       "      <td>™</td>\n",
       "      <td>1</td>\n",
       "      <td>1</td>\n",
       "      <td>1</td>\n",
       "      <td>1</td>\n",
       "    </tr>\n",
       "    <tr>\n",
       "      <th>2</th>\n",
       "      <td>☠</td>\n",
       "      <td>5</td>\n",
       "      <td>5</td>\n",
       "      <td>5</td>\n",
       "      <td>5</td>\n",
       "    </tr>\n",
       "    <tr>\n",
       "      <th>3</th>\n",
       "      <td>☺</td>\n",
       "      <td>1</td>\n",
       "      <td>1</td>\n",
       "      <td>1</td>\n",
       "      <td>1</td>\n",
       "    </tr>\n",
       "    <tr>\n",
       "      <th>4</th>\n",
       "      <td>♂</td>\n",
       "      <td>2</td>\n",
       "      <td>2</td>\n",
       "      <td>2</td>\n",
       "      <td>2</td>\n",
       "    </tr>\n",
       "    <tr>\n",
       "      <th>...</th>\n",
       "      <td>...</td>\n",
       "      <td>...</td>\n",
       "      <td>...</td>\n",
       "      <td>...</td>\n",
       "      <td>...</td>\n",
       "    </tr>\n",
       "    <tr>\n",
       "      <th>98</th>\n",
       "      <td>🫡</td>\n",
       "      <td>1</td>\n",
       "      <td>1</td>\n",
       "      <td>1</td>\n",
       "      <td>1</td>\n",
       "    </tr>\n",
       "    <tr>\n",
       "      <th>99</th>\n",
       "      <td>🫰</td>\n",
       "      <td>4</td>\n",
       "      <td>4</td>\n",
       "      <td>4</td>\n",
       "      <td>4</td>\n",
       "    </tr>\n",
       "    <tr>\n",
       "      <th>100</th>\n",
       "      <td>🫳</td>\n",
       "      <td>1</td>\n",
       "      <td>1</td>\n",
       "      <td>1</td>\n",
       "      <td>1</td>\n",
       "    </tr>\n",
       "    <tr>\n",
       "      <th>101</th>\n",
       "      <td>🫵</td>\n",
       "      <td>4</td>\n",
       "      <td>4</td>\n",
       "      <td>4</td>\n",
       "      <td>4</td>\n",
       "    </tr>\n",
       "    <tr>\n",
       "      <th>102</th>\n",
       "      <td>🫶</td>\n",
       "      <td>9</td>\n",
       "      <td>9</td>\n",
       "      <td>9</td>\n",
       "      <td>9</td>\n",
       "    </tr>\n",
       "  </tbody>\n",
       "</table>\n",
       "<p>103 rows × 5 columns</p>\n",
       "</div>"
      ]
     },
     "execution_count": 9,
     "metadata": {},
     "output_type": "execute_result"
    }
   ],
   "execution_count": 9
  },
  {
   "metadata": {
    "ExecuteTime": {
     "end_time": "2024-11-02T08:04:07.694811Z",
     "start_time": "2024-11-02T08:04:07.687730Z"
    }
   },
   "cell_type": "code",
   "source": [
    "df_emoji['multi_rate'] = df_emoji['multi-sarcasm'].apply(lambda x : x * 4224/10805)\n",
    "df_emoji['not_rate'] = df_emoji['not-sarcasm'].apply(lambda x : x * 6062/10805)\n",
    "df_emoji['image_rate'] = df_emoji['image-sarcasm'].apply(lambda x : x * 442/10805)\n",
    "df_emoji['text_rate'] = df_emoji['text-sarcasm'].apply(lambda x : x * 77/10805)\n"
   ],
   "id": "2c298b54146e8ba",
   "outputs": [],
   "execution_count": 16
  },
  {
   "metadata": {
    "ExecuteTime": {
     "end_time": "2024-11-02T08:04:07.850152Z",
     "start_time": "2024-11-02T08:04:07.836893Z"
    }
   },
   "cell_type": "code",
   "source": "df_emoji",
   "id": "27949e8a30fbdca5",
   "outputs": [
    {
     "data": {
      "text/plain": [
       "    emoji  multi-sarcasm  not-sarcasm  text-sarcasm  image-sarcasm  \\\n",
       "0       ©            3.0          7.0           0.0            0.0   \n",
       "1       ‼            3.0         46.0           0.0            1.0   \n",
       "2       ⁉            1.0          5.0           0.0            0.0   \n",
       "3       ↕            1.0          0.0           0.0            0.0   \n",
       "4       ⏰            2.0         23.0           0.0            0.0   \n",
       "..    ...            ...          ...           ...            ...   \n",
       "511     🫦            1.0          0.0           0.0            0.0   \n",
       "512     🫨            0.0          5.0           0.0            0.0   \n",
       "513     🫰            5.0         33.0           0.0            0.0   \n",
       "514     🫵            1.0         16.0           0.0            1.0   \n",
       "515     🫶            7.0         19.0           0.0            1.0   \n",
       "\n",
       "     multi_rate   not_rate  image_rate  text_rate  \n",
       "0      1.172790   3.927256    0.000000        0.0  \n",
       "1      1.172790  25.807682    0.040907        0.0  \n",
       "2      0.390930   2.805183    0.000000        0.0  \n",
       "3      0.390930   0.000000    0.000000        0.0  \n",
       "4      0.781860  12.903841    0.000000        0.0  \n",
       "..          ...        ...         ...        ...  \n",
       "511    0.390930   0.000000    0.000000        0.0  \n",
       "512    0.000000   2.805183    0.000000        0.0  \n",
       "513    1.954651  18.514206    0.000000        0.0  \n",
       "514    0.390930   8.976585    0.040907        0.0  \n",
       "515    2.736511  10.659695    0.040907        0.0  \n",
       "\n",
       "[516 rows x 9 columns]"
      ],
      "text/html": [
       "<div>\n",
       "<style scoped>\n",
       "    .dataframe tbody tr th:only-of-type {\n",
       "        vertical-align: middle;\n",
       "    }\n",
       "\n",
       "    .dataframe tbody tr th {\n",
       "        vertical-align: top;\n",
       "    }\n",
       "\n",
       "    .dataframe thead th {\n",
       "        text-align: right;\n",
       "    }\n",
       "</style>\n",
       "<table border=\"1\" class=\"dataframe\">\n",
       "  <thead>\n",
       "    <tr style=\"text-align: right;\">\n",
       "      <th></th>\n",
       "      <th>emoji</th>\n",
       "      <th>multi-sarcasm</th>\n",
       "      <th>not-sarcasm</th>\n",
       "      <th>text-sarcasm</th>\n",
       "      <th>image-sarcasm</th>\n",
       "      <th>multi_rate</th>\n",
       "      <th>not_rate</th>\n",
       "      <th>image_rate</th>\n",
       "      <th>text_rate</th>\n",
       "    </tr>\n",
       "  </thead>\n",
       "  <tbody>\n",
       "    <tr>\n",
       "      <th>0</th>\n",
       "      <td>©</td>\n",
       "      <td>3.0</td>\n",
       "      <td>7.0</td>\n",
       "      <td>0.0</td>\n",
       "      <td>0.0</td>\n",
       "      <td>1.172790</td>\n",
       "      <td>3.927256</td>\n",
       "      <td>0.000000</td>\n",
       "      <td>0.0</td>\n",
       "    </tr>\n",
       "    <tr>\n",
       "      <th>1</th>\n",
       "      <td>‼</td>\n",
       "      <td>3.0</td>\n",
       "      <td>46.0</td>\n",
       "      <td>0.0</td>\n",
       "      <td>1.0</td>\n",
       "      <td>1.172790</td>\n",
       "      <td>25.807682</td>\n",
       "      <td>0.040907</td>\n",
       "      <td>0.0</td>\n",
       "    </tr>\n",
       "    <tr>\n",
       "      <th>2</th>\n",
       "      <td>⁉</td>\n",
       "      <td>1.0</td>\n",
       "      <td>5.0</td>\n",
       "      <td>0.0</td>\n",
       "      <td>0.0</td>\n",
       "      <td>0.390930</td>\n",
       "      <td>2.805183</td>\n",
       "      <td>0.000000</td>\n",
       "      <td>0.0</td>\n",
       "    </tr>\n",
       "    <tr>\n",
       "      <th>3</th>\n",
       "      <td>↕</td>\n",
       "      <td>1.0</td>\n",
       "      <td>0.0</td>\n",
       "      <td>0.0</td>\n",
       "      <td>0.0</td>\n",
       "      <td>0.390930</td>\n",
       "      <td>0.000000</td>\n",
       "      <td>0.000000</td>\n",
       "      <td>0.0</td>\n",
       "    </tr>\n",
       "    <tr>\n",
       "      <th>4</th>\n",
       "      <td>⏰</td>\n",
       "      <td>2.0</td>\n",
       "      <td>23.0</td>\n",
       "      <td>0.0</td>\n",
       "      <td>0.0</td>\n",
       "      <td>0.781860</td>\n",
       "      <td>12.903841</td>\n",
       "      <td>0.000000</td>\n",
       "      <td>0.0</td>\n",
       "    </tr>\n",
       "    <tr>\n",
       "      <th>...</th>\n",
       "      <td>...</td>\n",
       "      <td>...</td>\n",
       "      <td>...</td>\n",
       "      <td>...</td>\n",
       "      <td>...</td>\n",
       "      <td>...</td>\n",
       "      <td>...</td>\n",
       "      <td>...</td>\n",
       "      <td>...</td>\n",
       "    </tr>\n",
       "    <tr>\n",
       "      <th>511</th>\n",
       "      <td>🫦</td>\n",
       "      <td>1.0</td>\n",
       "      <td>0.0</td>\n",
       "      <td>0.0</td>\n",
       "      <td>0.0</td>\n",
       "      <td>0.390930</td>\n",
       "      <td>0.000000</td>\n",
       "      <td>0.000000</td>\n",
       "      <td>0.0</td>\n",
       "    </tr>\n",
       "    <tr>\n",
       "      <th>512</th>\n",
       "      <td>🫨</td>\n",
       "      <td>0.0</td>\n",
       "      <td>5.0</td>\n",
       "      <td>0.0</td>\n",
       "      <td>0.0</td>\n",
       "      <td>0.000000</td>\n",
       "      <td>2.805183</td>\n",
       "      <td>0.000000</td>\n",
       "      <td>0.0</td>\n",
       "    </tr>\n",
       "    <tr>\n",
       "      <th>513</th>\n",
       "      <td>🫰</td>\n",
       "      <td>5.0</td>\n",
       "      <td>33.0</td>\n",
       "      <td>0.0</td>\n",
       "      <td>0.0</td>\n",
       "      <td>1.954651</td>\n",
       "      <td>18.514206</td>\n",
       "      <td>0.000000</td>\n",
       "      <td>0.0</td>\n",
       "    </tr>\n",
       "    <tr>\n",
       "      <th>514</th>\n",
       "      <td>🫵</td>\n",
       "      <td>1.0</td>\n",
       "      <td>16.0</td>\n",
       "      <td>0.0</td>\n",
       "      <td>1.0</td>\n",
       "      <td>0.390930</td>\n",
       "      <td>8.976585</td>\n",
       "      <td>0.040907</td>\n",
       "      <td>0.0</td>\n",
       "    </tr>\n",
       "    <tr>\n",
       "      <th>515</th>\n",
       "      <td>🫶</td>\n",
       "      <td>7.0</td>\n",
       "      <td>19.0</td>\n",
       "      <td>0.0</td>\n",
       "      <td>1.0</td>\n",
       "      <td>2.736511</td>\n",
       "      <td>10.659695</td>\n",
       "      <td>0.040907</td>\n",
       "      <td>0.0</td>\n",
       "    </tr>\n",
       "  </tbody>\n",
       "</table>\n",
       "<p>516 rows × 9 columns</p>\n",
       "</div>"
      ]
     },
     "execution_count": 17,
     "metadata": {},
     "output_type": "execute_result"
    }
   ],
   "execution_count": 17
  },
  {
   "metadata": {},
   "cell_type": "markdown",
   "source": [
    "sự phân phối của emoji không đồng đều có thể dẫn đến mô hình sẽ dựa vào emoji để dự đoán mà không xét tới dấu hiệu đa phương thức </br>\n",
    "**Đề xuất:** Loại bỏ emoji"
   ],
   "id": "1dacda0345e39f7e"
  },
  {
   "metadata": {},
   "cell_type": "markdown",
   "source": "# Phân tích hashtag",
   "id": "86ab76634b8be9e8"
  },
  {
   "metadata": {
    "ExecuteTime": {
     "end_time": "2024-11-02T08:04:08.117244Z",
     "start_time": "2024-11-02T08:04:08.078198Z"
    }
   },
   "cell_type": "code",
   "source": [
    "df_hashtags = pd.DataFrame(columns=['hashtag'])\n",
    "\n",
    "\n",
    "def extract_hashtags(text):\n",
    "    hashtag = re.findall(r'#\\w+', text)\n",
    "    return hashtag\n",
    "\n",
    "\n",
    "for label in labels:\n",
    "    # Lọc DataFrame theo label\n",
    "    filtered_df = df[df['label'] == label]\n",
    "\n",
    "    # Tìm tất cả các emoji trong cột và tách ra thành từng hàng\n",
    "    all_hashtags = filtered_df['caption'].apply(extract_hashtags).explode()\n",
    "\n",
    "    # Đếm số lần xuất hiện của từng emoji\n",
    "    hashtag_counts = all_hashtags.value_counts().reset_index()\n",
    "    hashtag_counts.columns = ['hashtag', label]\n",
    "    df_hashtags = df_hashtags.merge(hashtag_counts, on='hashtag', how='outer')\n",
    "\n",
    "df_hashtags = df_hashtags.fillna(0)"
   ],
   "id": "2bb82a690831b346",
   "outputs": [],
   "execution_count": 18
  },
  {
   "metadata": {
    "ExecuteTime": {
     "end_time": "2024-11-02T08:04:08.275135Z",
     "start_time": "2024-11-02T08:04:08.267031Z"
    }
   },
   "cell_type": "code",
   "source": [
    "df_hashtags['multi_rate'] = df_hashtags['multi-sarcasm'].apply(lambda x : x * 4224/10805)\n",
    "df_hashtags['not_rate'] = df_hashtags['not-sarcasm'].apply(lambda x : x * 6062/10805)\n",
    "df_hashtags['image_rate'] = df_hashtags['image-sarcasm'].apply(lambda x : x * 442/10805)\n",
    "df_hashtags['text_rate'] = df_hashtags['text-sarcasm'].apply(lambda x : x * 77/10805)\n"
   ],
   "id": "7bea4c38df1e438b",
   "outputs": [],
   "execution_count": 19
  },
  {
   "metadata": {
    "ExecuteTime": {
     "end_time": "2024-11-02T08:04:08.444385Z",
     "start_time": "2024-11-02T08:04:08.431687Z"
    }
   },
   "cell_type": "code",
   "source": "df_hashtags",
   "id": "67c661258fc9f3d",
   "outputs": [
    {
     "data": {
      "text/plain": [
       "                hashtag  multi-sarcasm  not-sarcasm  text-sarcasm  \\\n",
       "0                    #0            1.0          0.0           0.0   \n",
       "1                  #098            0.0          1.0           0.0   \n",
       "2                    #1            1.0         16.0           0.0   \n",
       "3                   #10            0.0          0.0           0.0   \n",
       "4                  #100            0.0          1.0           0.0   \n",
       "...                 ...            ...          ...           ...   \n",
       "1557  #đọcvịquaXEseries            0.0          0.0           0.0   \n",
       "1558        #ỚiGojeknha            0.0          1.0           0.0   \n",
       "1559           #Ởđâucần            0.0          1.0           0.0   \n",
       "1560           #ỞđócóMB            0.0          1.0           0.0   \n",
       "1561         #𝗡𝗘𝗪𝗡𝗢𝗥𝗠𝗔𝗟            0.0          5.0           0.0   \n",
       "\n",
       "      image-sarcasm  multi_rate  not_rate  image_rate  text_rate  \n",
       "0               0.0     0.39093  0.000000    0.000000        0.0  \n",
       "1               0.0     0.00000  0.561037    0.000000        0.0  \n",
       "2               0.0     0.39093  8.976585    0.000000        0.0  \n",
       "3               1.0     0.00000  0.000000    0.040907        0.0  \n",
       "4               0.0     0.00000  0.561037    0.000000        0.0  \n",
       "...             ...         ...       ...         ...        ...  \n",
       "1557            1.0     0.00000  0.000000    0.040907        0.0  \n",
       "1558            0.0     0.00000  0.561037    0.000000        0.0  \n",
       "1559            0.0     0.00000  0.561037    0.000000        0.0  \n",
       "1560            0.0     0.00000  0.561037    0.000000        0.0  \n",
       "1561            0.0     0.00000  2.805183    0.000000        0.0  \n",
       "\n",
       "[1562 rows x 9 columns]"
      ],
      "text/html": [
       "<div>\n",
       "<style scoped>\n",
       "    .dataframe tbody tr th:only-of-type {\n",
       "        vertical-align: middle;\n",
       "    }\n",
       "\n",
       "    .dataframe tbody tr th {\n",
       "        vertical-align: top;\n",
       "    }\n",
       "\n",
       "    .dataframe thead th {\n",
       "        text-align: right;\n",
       "    }\n",
       "</style>\n",
       "<table border=\"1\" class=\"dataframe\">\n",
       "  <thead>\n",
       "    <tr style=\"text-align: right;\">\n",
       "      <th></th>\n",
       "      <th>hashtag</th>\n",
       "      <th>multi-sarcasm</th>\n",
       "      <th>not-sarcasm</th>\n",
       "      <th>text-sarcasm</th>\n",
       "      <th>image-sarcasm</th>\n",
       "      <th>multi_rate</th>\n",
       "      <th>not_rate</th>\n",
       "      <th>image_rate</th>\n",
       "      <th>text_rate</th>\n",
       "    </tr>\n",
       "  </thead>\n",
       "  <tbody>\n",
       "    <tr>\n",
       "      <th>0</th>\n",
       "      <td>#0</td>\n",
       "      <td>1.0</td>\n",
       "      <td>0.0</td>\n",
       "      <td>0.0</td>\n",
       "      <td>0.0</td>\n",
       "      <td>0.39093</td>\n",
       "      <td>0.000000</td>\n",
       "      <td>0.000000</td>\n",
       "      <td>0.0</td>\n",
       "    </tr>\n",
       "    <tr>\n",
       "      <th>1</th>\n",
       "      <td>#098</td>\n",
       "      <td>0.0</td>\n",
       "      <td>1.0</td>\n",
       "      <td>0.0</td>\n",
       "      <td>0.0</td>\n",
       "      <td>0.00000</td>\n",
       "      <td>0.561037</td>\n",
       "      <td>0.000000</td>\n",
       "      <td>0.0</td>\n",
       "    </tr>\n",
       "    <tr>\n",
       "      <th>2</th>\n",
       "      <td>#1</td>\n",
       "      <td>1.0</td>\n",
       "      <td>16.0</td>\n",
       "      <td>0.0</td>\n",
       "      <td>0.0</td>\n",
       "      <td>0.39093</td>\n",
       "      <td>8.976585</td>\n",
       "      <td>0.000000</td>\n",
       "      <td>0.0</td>\n",
       "    </tr>\n",
       "    <tr>\n",
       "      <th>3</th>\n",
       "      <td>#10</td>\n",
       "      <td>0.0</td>\n",
       "      <td>0.0</td>\n",
       "      <td>0.0</td>\n",
       "      <td>1.0</td>\n",
       "      <td>0.00000</td>\n",
       "      <td>0.000000</td>\n",
       "      <td>0.040907</td>\n",
       "      <td>0.0</td>\n",
       "    </tr>\n",
       "    <tr>\n",
       "      <th>4</th>\n",
       "      <td>#100</td>\n",
       "      <td>0.0</td>\n",
       "      <td>1.0</td>\n",
       "      <td>0.0</td>\n",
       "      <td>0.0</td>\n",
       "      <td>0.00000</td>\n",
       "      <td>0.561037</td>\n",
       "      <td>0.000000</td>\n",
       "      <td>0.0</td>\n",
       "    </tr>\n",
       "    <tr>\n",
       "      <th>...</th>\n",
       "      <td>...</td>\n",
       "      <td>...</td>\n",
       "      <td>...</td>\n",
       "      <td>...</td>\n",
       "      <td>...</td>\n",
       "      <td>...</td>\n",
       "      <td>...</td>\n",
       "      <td>...</td>\n",
       "      <td>...</td>\n",
       "    </tr>\n",
       "    <tr>\n",
       "      <th>1557</th>\n",
       "      <td>#đọcvịquaXEseries</td>\n",
       "      <td>0.0</td>\n",
       "      <td>0.0</td>\n",
       "      <td>0.0</td>\n",
       "      <td>1.0</td>\n",
       "      <td>0.00000</td>\n",
       "      <td>0.000000</td>\n",
       "      <td>0.040907</td>\n",
       "      <td>0.0</td>\n",
       "    </tr>\n",
       "    <tr>\n",
       "      <th>1558</th>\n",
       "      <td>#ỚiGojeknha</td>\n",
       "      <td>0.0</td>\n",
       "      <td>1.0</td>\n",
       "      <td>0.0</td>\n",
       "      <td>0.0</td>\n",
       "      <td>0.00000</td>\n",
       "      <td>0.561037</td>\n",
       "      <td>0.000000</td>\n",
       "      <td>0.0</td>\n",
       "    </tr>\n",
       "    <tr>\n",
       "      <th>1559</th>\n",
       "      <td>#Ởđâucần</td>\n",
       "      <td>0.0</td>\n",
       "      <td>1.0</td>\n",
       "      <td>0.0</td>\n",
       "      <td>0.0</td>\n",
       "      <td>0.00000</td>\n",
       "      <td>0.561037</td>\n",
       "      <td>0.000000</td>\n",
       "      <td>0.0</td>\n",
       "    </tr>\n",
       "    <tr>\n",
       "      <th>1560</th>\n",
       "      <td>#ỞđócóMB</td>\n",
       "      <td>0.0</td>\n",
       "      <td>1.0</td>\n",
       "      <td>0.0</td>\n",
       "      <td>0.0</td>\n",
       "      <td>0.00000</td>\n",
       "      <td>0.561037</td>\n",
       "      <td>0.000000</td>\n",
       "      <td>0.0</td>\n",
       "    </tr>\n",
       "    <tr>\n",
       "      <th>1561</th>\n",
       "      <td>#𝗡𝗘𝗪𝗡𝗢𝗥𝗠𝗔𝗟</td>\n",
       "      <td>0.0</td>\n",
       "      <td>5.0</td>\n",
       "      <td>0.0</td>\n",
       "      <td>0.0</td>\n",
       "      <td>0.00000</td>\n",
       "      <td>2.805183</td>\n",
       "      <td>0.000000</td>\n",
       "      <td>0.0</td>\n",
       "    </tr>\n",
       "  </tbody>\n",
       "</table>\n",
       "<p>1562 rows × 9 columns</p>\n",
       "</div>"
      ]
     },
     "execution_count": 20,
     "metadata": {},
     "output_type": "execute_result"
    }
   ],
   "execution_count": 20
  },
  {
   "metadata": {
    "ExecuteTime": {
     "end_time": "2024-10-25T03:46:37.260651Z",
     "start_time": "2024-10-25T03:46:37.234225Z"
    }
   },
   "cell_type": "code",
   "source": "df_hashtags.describe()",
   "id": "3ea2ae1742ff418e",
   "outputs": [
    {
     "data": {
      "text/plain": [
       "       multi-sarcasm  not-sarcasm  text-sarcasm  image-sarcasm   multi_rate  \\\n",
       "count    1562.000000  1562.000000   1562.000000    1562.000000  1562.000000   \n",
       "mean        1.000640     1.796415      0.028169       0.206786     0.391180   \n",
       "std         9.389398     5.772722      0.278139       1.747004     3.670599   \n",
       "min         0.000000     0.000000      0.000000       0.000000     0.000000   \n",
       "25%         0.000000     0.000000      0.000000       0.000000     0.000000   \n",
       "50%         0.000000     1.000000      0.000000       0.000000     0.000000   \n",
       "75%         1.000000     1.000000      0.000000       0.000000     0.390930   \n",
       "max       296.000000   149.000000      5.000000      41.000000   115.715317   \n",
       "\n",
       "          not_rate   image_rate    text_rate  \n",
       "count  1562.000000  1562.000000  1562.000000  \n",
       "mean      1.007854     0.008459     0.000201  \n",
       "std       3.238708     0.071465     0.001982  \n",
       "min       0.000000     0.000000     0.000000  \n",
       "25%       0.000000     0.000000     0.000000  \n",
       "50%       0.561037     0.000000     0.000000  \n",
       "75%       0.561037     0.000000     0.000000  \n",
       "max      83.594447     1.677186     0.035632  "
      ],
      "text/html": [
       "<div>\n",
       "<style scoped>\n",
       "    .dataframe tbody tr th:only-of-type {\n",
       "        vertical-align: middle;\n",
       "    }\n",
       "\n",
       "    .dataframe tbody tr th {\n",
       "        vertical-align: top;\n",
       "    }\n",
       "\n",
       "    .dataframe thead th {\n",
       "        text-align: right;\n",
       "    }\n",
       "</style>\n",
       "<table border=\"1\" class=\"dataframe\">\n",
       "  <thead>\n",
       "    <tr style=\"text-align: right;\">\n",
       "      <th></th>\n",
       "      <th>multi-sarcasm</th>\n",
       "      <th>not-sarcasm</th>\n",
       "      <th>text-sarcasm</th>\n",
       "      <th>image-sarcasm</th>\n",
       "      <th>multi_rate</th>\n",
       "      <th>not_rate</th>\n",
       "      <th>image_rate</th>\n",
       "      <th>text_rate</th>\n",
       "    </tr>\n",
       "  </thead>\n",
       "  <tbody>\n",
       "    <tr>\n",
       "      <th>count</th>\n",
       "      <td>1562.000000</td>\n",
       "      <td>1562.000000</td>\n",
       "      <td>1562.000000</td>\n",
       "      <td>1562.000000</td>\n",
       "      <td>1562.000000</td>\n",
       "      <td>1562.000000</td>\n",
       "      <td>1562.000000</td>\n",
       "      <td>1562.000000</td>\n",
       "    </tr>\n",
       "    <tr>\n",
       "      <th>mean</th>\n",
       "      <td>1.000640</td>\n",
       "      <td>1.796415</td>\n",
       "      <td>0.028169</td>\n",
       "      <td>0.206786</td>\n",
       "      <td>0.391180</td>\n",
       "      <td>1.007854</td>\n",
       "      <td>0.008459</td>\n",
       "      <td>0.000201</td>\n",
       "    </tr>\n",
       "    <tr>\n",
       "      <th>std</th>\n",
       "      <td>9.389398</td>\n",
       "      <td>5.772722</td>\n",
       "      <td>0.278139</td>\n",
       "      <td>1.747004</td>\n",
       "      <td>3.670599</td>\n",
       "      <td>3.238708</td>\n",
       "      <td>0.071465</td>\n",
       "      <td>0.001982</td>\n",
       "    </tr>\n",
       "    <tr>\n",
       "      <th>min</th>\n",
       "      <td>0.000000</td>\n",
       "      <td>0.000000</td>\n",
       "      <td>0.000000</td>\n",
       "      <td>0.000000</td>\n",
       "      <td>0.000000</td>\n",
       "      <td>0.000000</td>\n",
       "      <td>0.000000</td>\n",
       "      <td>0.000000</td>\n",
       "    </tr>\n",
       "    <tr>\n",
       "      <th>25%</th>\n",
       "      <td>0.000000</td>\n",
       "      <td>0.000000</td>\n",
       "      <td>0.000000</td>\n",
       "      <td>0.000000</td>\n",
       "      <td>0.000000</td>\n",
       "      <td>0.000000</td>\n",
       "      <td>0.000000</td>\n",
       "      <td>0.000000</td>\n",
       "    </tr>\n",
       "    <tr>\n",
       "      <th>50%</th>\n",
       "      <td>0.000000</td>\n",
       "      <td>1.000000</td>\n",
       "      <td>0.000000</td>\n",
       "      <td>0.000000</td>\n",
       "      <td>0.000000</td>\n",
       "      <td>0.561037</td>\n",
       "      <td>0.000000</td>\n",
       "      <td>0.000000</td>\n",
       "    </tr>\n",
       "    <tr>\n",
       "      <th>75%</th>\n",
       "      <td>1.000000</td>\n",
       "      <td>1.000000</td>\n",
       "      <td>0.000000</td>\n",
       "      <td>0.000000</td>\n",
       "      <td>0.390930</td>\n",
       "      <td>0.561037</td>\n",
       "      <td>0.000000</td>\n",
       "      <td>0.000000</td>\n",
       "    </tr>\n",
       "    <tr>\n",
       "      <th>max</th>\n",
       "      <td>296.000000</td>\n",
       "      <td>149.000000</td>\n",
       "      <td>5.000000</td>\n",
       "      <td>41.000000</td>\n",
       "      <td>115.715317</td>\n",
       "      <td>83.594447</td>\n",
       "      <td>1.677186</td>\n",
       "      <td>0.035632</td>\n",
       "    </tr>\n",
       "  </tbody>\n",
       "</table>\n",
       "</div>"
      ]
     },
     "execution_count": 26,
     "metadata": {},
     "output_type": "execute_result"
    }
   ],
   "execution_count": 26
  },
  {
   "metadata": {
    "ExecuteTime": {
     "end_time": "2024-10-25T03:46:40.360022Z",
     "start_time": "2024-10-25T03:46:40.353053Z"
    }
   },
   "cell_type": "code",
   "source": "sum(x for x in df_hashtags['multi-sarcasm'])",
   "id": "e474119e4f9ada8c",
   "outputs": [
    {
     "data": {
      "text/plain": [
       "1563.0"
      ]
     },
     "execution_count": 27,
     "metadata": {},
     "output_type": "execute_result"
    }
   ],
   "execution_count": 27
  },
  {
   "metadata": {
    "ExecuteTime": {
     "end_time": "2024-10-25T03:46:40.567700Z",
     "start_time": "2024-10-25T03:46:40.562299Z"
    }
   },
   "cell_type": "code",
   "source": "sum(x for x in df_hashtags['not-sarcasm'])",
   "id": "d1f5ef9dd1fb1b6c",
   "outputs": [
    {
     "data": {
      "text/plain": [
       "2806.0"
      ]
     },
     "execution_count": 28,
     "metadata": {},
     "output_type": "execute_result"
    }
   ],
   "execution_count": 28
  },
  {
   "metadata": {
    "ExecuteTime": {
     "end_time": "2024-10-25T03:46:40.942164Z",
     "start_time": "2024-10-25T03:46:40.934930Z"
    }
   },
   "cell_type": "code",
   "source": "sum(x for x in df_hashtags['text-sarcasm'])",
   "id": "d1a6df118b482816",
   "outputs": [
    {
     "data": {
      "text/plain": [
       "44.0"
      ]
     },
     "execution_count": 29,
     "metadata": {},
     "output_type": "execute_result"
    }
   ],
   "execution_count": 29
  },
  {
   "metadata": {
    "ExecuteTime": {
     "end_time": "2024-10-25T03:46:41.154433Z",
     "start_time": "2024-10-25T03:46:41.147495Z"
    }
   },
   "cell_type": "code",
   "source": "sum(x for x in df_hashtags['image-sarcasm'])",
   "id": "5d4787ef324bf82f",
   "outputs": [
    {
     "data": {
      "text/plain": [
       "323.0"
      ]
     },
     "execution_count": 30,
     "metadata": {},
     "output_type": "execute_result"
    }
   ],
   "execution_count": 30
  },
  {
   "metadata": {},
   "cell_type": "markdown",
   "source": "# Remove Emoji and Hashtag\n",
   "id": "32a70e0efb549e73"
  },
  {
   "metadata": {
    "ExecuteTime": {
     "end_time": "2024-11-10T13:46:26.201097Z",
     "start_time": "2024-11-10T13:46:26.193062Z"
    }
   },
   "cell_type": "code",
   "source": [
    "import re\n",
    "import emoji\n",
    "from underthesea import text_normalize\n",
    "\n",
    "def remove_hashtags_and_emojis(input_file, output_file):\n",
    "    \"\"\"\n",
    "    Hàm để loại bỏ hashtag, emoji, URL và chuẩn hóa văn bản trong caption từ file JSON.\n",
    "\n",
    "    Parameters:\n",
    "    - input_file: đường dẫn đến file JSON đầu vào.\n",
    "    - output_file: đường dẫn đến file JSON đầu ra.\n",
    "    \"\"\"\n",
    "    \n",
    "    # Đọc file JSON\n",
    "    with open(input_file, 'r', encoding='utf-8') as file:\n",
    "        data = json.load(file)\n",
    "\n",
    "    # Hàm để loại bỏ hashtag, emoji, URL và chuẩn hóa văn bản\n",
    "    def clean_caption(caption):\n",
    "        # Chuyển đổi caption sang chữ thường\n",
    "        caption = caption.lower()\n",
    "        \n",
    "        # Thay thế biểu tượng cảm xúc bằng emoji, không thay thế nếu là thời gian\n",
    "        # Đầu tiên, loại bỏ các thời gian khỏi caption để không bị thay thế nhầm\n",
    "        # caption_without_time = re.sub(r'\\b\\d{1,2}[:]\\d{2}\\b', '', caption)\n",
    "\n",
    "        # # Thay thế biểu tượng cảm xúc bằng emoji\n",
    "        emoticons = [\n",
    "            # (r\"={1,}\\)+\", \"😆\"),\n",
    "            # (r\":{1,}\\)+\", \"😂\"), \n",
    "            # (r\":{1,}\\(+\", \"😞\"), \n",
    "            # (r\";{1,}\\)+\", \"😉\"),\n",
    "            # (r\":’\\(+\", \"😢\"),\n",
    "            # (r\":3\", \"coy_smile\"),\n",
    "            # (r\"\\(y\\)\", \"👍\"),\n",
    "            # (r\"._.\", '😕'),\n",
    "            # (r\":&lt;\" , \"😔\"),\n",
    "            # (r\":&gt;\" , \"😏\"),\n",
    "            (r\"&amp;\", '&')\n",
    "        ]\n",
    "\n",
    "        # Thay thế tất cả biểu tượng cảm xúc trong danh sách\n",
    "        for pattern, emoji_symbol in emoticons:\n",
    "            caption = re.sub(pattern, emoji_symbol, caption)\n",
    "\n",
    "        # Loại bỏ hashtag\n",
    "        caption = re.sub(r'#\\S+', '', caption)  # Loại bỏ hashtag và các từ liền theo sau\n",
    "\n",
    "        # Loại bỏ URL\n",
    "        # caption = re.sub(r'http\\S+|www\\S+', '', caption)  # Loại bỏ URL\n",
    "\n",
    "        # # Chuyển đổi emoji thành dạng văn bản\n",
    "        caption = emoji.demojize(caption)\n",
    "        \n",
    "        # Loại bỏ emoji khỏi chuỗi văn bản\n",
    "        # caption = emoji.replace_emoji(caption, replace='')\n",
    "        \n",
    "        # Loại bỏ \\n và các ký tự không cần thiết\n",
    "        caption = caption.replace('\\n', '')\n",
    "        # caption = re.sub(r'[.,\\\\,:,=,]', '', caption)\n",
    "        \n",
    "        return caption.strip()  \n",
    "\n",
    "    # Cập nhật caption trong dữ liệu\n",
    "    for key, entry in data.items():\n",
    "        entry['caption'] = clean_caption(entry['caption'])\n",
    "\n",
    "    # Ghi dữ liệu đã cập nhật vào file JSON mới\n",
    "    with open(output_file, 'w', encoding='utf-8') as file:\n",
    "        json.dump(data, file, ensure_ascii=False, indent=4)\n"
   ],
   "id": "899dadf9a7e769ab",
   "outputs": [],
   "execution_count": 15
  },
  {
   "metadata": {
    "ExecuteTime": {
     "end_time": "2024-11-10T13:47:20.768216Z",
     "start_time": "2024-11-10T13:47:18.404089Z"
    }
   },
   "cell_type": "code",
   "source": "remove_hashtags_and_emojis(r'F:\\ds_competition\\data_augment_text_sarcasm.json', r'F:\\ds_competition\\data_train_augment_text_sarcasm\\processed_data_augment_text_sarcasm.json')",
   "id": "29b6e39102143b7",
   "outputs": [],
   "execution_count": 16
  },
  {
   "metadata": {
    "ExecuteTime": {
     "end_time": "2024-11-09T05:03:50.591275Z",
     "start_time": "2024-11-09T05:03:48.390116Z"
    }
   },
   "cell_type": "code",
   "source": [
    "remove_hashtags_and_emojis(data_path['json'], 'processed_train_demove_remove_hashtag_url_v8.json')\n",
    "remove_hashtags_and_emojis(data_predict_path['json'], 'processed_pred_demove_remove_hashtag_url_v8.json')\n",
    "remove_hashtags_and_emojis(r'F:\\ds_competition\\Data_private\\vimmsd-private-test.json', 'processed_private_demoji_remove_hashtag_url_v8.json')"
   ],
   "id": "f9c3847828f0e94c",
   "outputs": [],
   "execution_count": 5
  },
  {
   "metadata": {
    "ExecuteTime": {
     "end_time": "2024-11-07T18:16:17.991152Z",
     "start_time": "2024-11-07T18:16:16.007645Z"
    }
   },
   "cell_type": "code",
   "source": [
    "# Ví dụ sử dụng hàm\n",
    "output_train_json_file = 'processed_train_demoji_remove_hashtag_url_have_orc.json'  # Đường dẫn đến file JSON đầu ra\n",
    "input_train_json_file = r'F:\\ds_competition\\Data_train\\vimmsd-train-with_ocr.json'\n",
    "remove_hashtags_and_emojis(input_train_json_file, output_train_json_file)"
   ],
   "id": "ec493719caba16be",
   "outputs": [],
   "execution_count": 54
  },
  {
   "metadata": {
    "ExecuteTime": {
     "end_time": "2024-11-07T18:16:18.326413Z",
     "start_time": "2024-11-07T18:16:18.183565Z"
    }
   },
   "cell_type": "code",
   "source": [
    "output_pred_json_file = 'processed_pred_demoji_remove_hashtag_url_have_ocr.json'\n",
    "input_pred_json_file = r'F:\\ds_competition\\Data_test_public\\vimmsd-public-test-with-ocr.json'\n",
    "remove_hashtags_and_emojis(input_pred_json_file, output_pred_json_file)"
   ],
   "id": "420d0c61c7bb14e5",
   "outputs": [],
   "execution_count": 55
  },
  {
   "metadata": {},
   "cell_type": "markdown",
   "source": "# xử lý trùng lặp bằng ocr",
   "id": "9a049df384796d6b"
  },
  {
   "metadata": {
    "ExecuteTime": {
     "end_time": "2024-11-07T18:18:45.090053Z",
     "start_time": "2024-11-07T18:18:45.083601Z"
    }
   },
   "cell_type": "code",
   "source": [
    "import json\n",
    "\n",
    "def handle_duplicate_with_ocr(input_path, output_path):\n",
    "    # Đọc dữ liệu từ file JSON\n",
    "    with open(input_path, 'r', encoding='utf-8') as f:\n",
    "        data = json.load(f)\n",
    "\n",
    "    # Tìm các caption trùng lặp\n",
    "    captions = [value['caption'] for value in data.values()]\n",
    "    duplicate_captions = [caption for caption in captions if captions.count(caption) > 1]\n",
    "\n",
    "    # Danh sách lưu trữ các từ bị duplicate\n",
    "    duplicate_words = set()\n",
    "\n",
    "    # Duyệt qua dữ liệu và cập nhật caption nếu có trùng lặp\n",
    "    for key, value in data.items():\n",
    "        if value['caption'] in duplicate_captions:\n",
    "            # Nối 'text_image' và 'caption' nếu trùng lặp\n",
    "            value['caption'] = value['text_image'] + ' ' + value['caption']\n",
    "\n",
    "    # Ghi dữ liệu ra file JSON mới\n",
    "    with open(output_path, 'w', encoding='utf-8') as file:\n",
    "        json.dump(data, file, ensure_ascii=False, indent=4)\n"
   ],
   "id": "5d326d5479e8bd9d",
   "outputs": [],
   "execution_count": 56
  },
  {
   "metadata": {
    "ExecuteTime": {
     "end_time": "2024-11-07T18:18:48.349571Z",
     "start_time": "2024-11-07T18:18:45.594567Z"
    }
   },
   "cell_type": "code",
   "source": [
    "handle_duplicate_with_ocr(output_train_json_file, 'updated_data_train_handle_duplicates.json')\n",
    "handle_duplicate_with_ocr(output_pred_json_file, 'updated_data_pred_handle_duplicates.json')"
   ],
   "id": "a1255f367a79aba",
   "outputs": [],
   "execution_count": 57
  },
  {
   "metadata": {
    "ExecuteTime": {
     "end_time": "2024-11-07T18:26:34.676974Z",
     "start_time": "2024-11-07T18:26:32.390760Z"
    }
   },
   "cell_type": "code",
   "source": [
    "remove_hashtags_and_emojis('updated_data_train_handle_duplicates.json', 'updated_data_train_handle_duplicates.json')\n",
    "remove_hashtags_and_emojis('updated_data_pred_handle_duplicates.json', 'updated_data_pred_handle_duplicates.json')"
   ],
   "id": "d3d0de53ffa7e1ad",
   "outputs": [],
   "execution_count": 59
  },
  {
   "metadata": {},
   "cell_type": "code",
   "source": "# df_processed = load_data(r'F:\\ds_competition\\processed_train_no_emoji_hashtag_and_have_augment.json')",
   "id": "d1681713c7ac26ac",
   "outputs": [],
   "execution_count": null
  },
  {
   "metadata": {
    "ExecuteTime": {
     "end_time": "2024-10-24T02:30:49.003616Z",
     "start_time": "2024-10-24T02:30:48.570323Z"
    }
   },
   "cell_type": "code",
   "source": [
    "processed_df_emoji = pd.DataFrame(columns=['emoji'])\n",
    "\n",
    "labels = ['multi-sarcasm', 'not-sarcasm', 'text-sarcasm', 'image-sarcasm']\n",
    "# Đếm số lần xuất hiện của mỗi emoji trong từng lớp\n",
    "for label in labels:\n",
    "    # Lọc DataFrame theo label\n",
    "    filtered_df = df_processed[df_processed['label'] == label]\n",
    "\n",
    "    # Tìm tất cả các emoji trong cột và tách ra thành từng hàng\n",
    "    all_emojis = filtered_df['caption'].apply(extract_emojis).explode()\n",
    "\n",
    "    # Đếm số lần xuất hiện của từng emoji\n",
    "    emoji_counts = all_emojis.value_counts().reset_index()\n",
    "    emoji_counts.columns = ['emoji', label]\n",
    "    processed_df_emoji = processed_df_emoji.merge(emoji_counts, on='emoji', how='outer')\n",
    "\n",
    "processed_df_emoji = processed_df_emoji.fillna(0)"
   ],
   "id": "2783506a29584578",
   "outputs": [],
   "execution_count": 32
  },
  {
   "metadata": {
    "ExecuteTime": {
     "end_time": "2024-10-24T02:30:49.861979Z",
     "start_time": "2024-10-24T02:30:49.849385Z"
    }
   },
   "cell_type": "code",
   "source": "processed_df_emoji",
   "id": "6fd1b6c692daa28a",
   "outputs": [
    {
     "data": {
      "text/plain": [
       "    emoji  multi-sarcasm  not-sarcasm  text-sarcasm  image-sarcasm\n",
       "0       ©            3.0          7.0           3.0            7.0\n",
       "1       ‼            3.0         46.0           3.0           35.0\n",
       "2       ⁉            1.0          5.0           1.0            3.0\n",
       "3       ↕            1.0          0.0           1.0            0.0\n",
       "4       ⏰            2.0         23.0           2.0           14.0\n",
       "..    ...            ...          ...           ...            ...\n",
       "511     🫦            1.0          0.0           1.0            0.0\n",
       "512     🫨            0.0          5.0           0.0            0.0\n",
       "513     🫰            5.0         33.0           5.0           28.0\n",
       "514     🫵            1.0         16.0           1.0            1.0\n",
       "515     🫶            7.0         19.0           7.0           15.0\n",
       "\n",
       "[516 rows x 5 columns]"
      ],
      "text/html": [
       "<div>\n",
       "<style scoped>\n",
       "    .dataframe tbody tr th:only-of-type {\n",
       "        vertical-align: middle;\n",
       "    }\n",
       "\n",
       "    .dataframe tbody tr th {\n",
       "        vertical-align: top;\n",
       "    }\n",
       "\n",
       "    .dataframe thead th {\n",
       "        text-align: right;\n",
       "    }\n",
       "</style>\n",
       "<table border=\"1\" class=\"dataframe\">\n",
       "  <thead>\n",
       "    <tr style=\"text-align: right;\">\n",
       "      <th></th>\n",
       "      <th>emoji</th>\n",
       "      <th>multi-sarcasm</th>\n",
       "      <th>not-sarcasm</th>\n",
       "      <th>text-sarcasm</th>\n",
       "      <th>image-sarcasm</th>\n",
       "    </tr>\n",
       "  </thead>\n",
       "  <tbody>\n",
       "    <tr>\n",
       "      <th>0</th>\n",
       "      <td>©</td>\n",
       "      <td>3.0</td>\n",
       "      <td>7.0</td>\n",
       "      <td>3.0</td>\n",
       "      <td>7.0</td>\n",
       "    </tr>\n",
       "    <tr>\n",
       "      <th>1</th>\n",
       "      <td>‼</td>\n",
       "      <td>3.0</td>\n",
       "      <td>46.0</td>\n",
       "      <td>3.0</td>\n",
       "      <td>35.0</td>\n",
       "    </tr>\n",
       "    <tr>\n",
       "      <th>2</th>\n",
       "      <td>⁉</td>\n",
       "      <td>1.0</td>\n",
       "      <td>5.0</td>\n",
       "      <td>1.0</td>\n",
       "      <td>3.0</td>\n",
       "    </tr>\n",
       "    <tr>\n",
       "      <th>3</th>\n",
       "      <td>↕</td>\n",
       "      <td>1.0</td>\n",
       "      <td>0.0</td>\n",
       "      <td>1.0</td>\n",
       "      <td>0.0</td>\n",
       "    </tr>\n",
       "    <tr>\n",
       "      <th>4</th>\n",
       "      <td>⏰</td>\n",
       "      <td>2.0</td>\n",
       "      <td>23.0</td>\n",
       "      <td>2.0</td>\n",
       "      <td>14.0</td>\n",
       "    </tr>\n",
       "    <tr>\n",
       "      <th>...</th>\n",
       "      <td>...</td>\n",
       "      <td>...</td>\n",
       "      <td>...</td>\n",
       "      <td>...</td>\n",
       "      <td>...</td>\n",
       "    </tr>\n",
       "    <tr>\n",
       "      <th>511</th>\n",
       "      <td>🫦</td>\n",
       "      <td>1.0</td>\n",
       "      <td>0.0</td>\n",
       "      <td>1.0</td>\n",
       "      <td>0.0</td>\n",
       "    </tr>\n",
       "    <tr>\n",
       "      <th>512</th>\n",
       "      <td>🫨</td>\n",
       "      <td>0.0</td>\n",
       "      <td>5.0</td>\n",
       "      <td>0.0</td>\n",
       "      <td>0.0</td>\n",
       "    </tr>\n",
       "    <tr>\n",
       "      <th>513</th>\n",
       "      <td>🫰</td>\n",
       "      <td>5.0</td>\n",
       "      <td>33.0</td>\n",
       "      <td>5.0</td>\n",
       "      <td>28.0</td>\n",
       "    </tr>\n",
       "    <tr>\n",
       "      <th>514</th>\n",
       "      <td>🫵</td>\n",
       "      <td>1.0</td>\n",
       "      <td>16.0</td>\n",
       "      <td>1.0</td>\n",
       "      <td>1.0</td>\n",
       "    </tr>\n",
       "    <tr>\n",
       "      <th>515</th>\n",
       "      <td>🫶</td>\n",
       "      <td>7.0</td>\n",
       "      <td>19.0</td>\n",
       "      <td>7.0</td>\n",
       "      <td>15.0</td>\n",
       "    </tr>\n",
       "  </tbody>\n",
       "</table>\n",
       "<p>516 rows × 5 columns</p>\n",
       "</div>"
      ]
     },
     "execution_count": 33,
     "metadata": {},
     "output_type": "execute_result"
    }
   ],
   "execution_count": 33
  },
  {
   "metadata": {
    "ExecuteTime": {
     "end_time": "2024-10-24T02:30:52.033783Z",
     "start_time": "2024-10-24T02:30:52.024912Z"
    }
   },
   "cell_type": "code",
   "source": "df_processed",
   "id": "cfbfd446d8be9d6c",
   "outputs": [
    {
     "data": {
      "text/plain": [
       "                                                   image  \\\n",
       "0      8ae451edcd8ebf697f8763ece249115813149c55733bf8...   \n",
       "1      35370ffd6c791d6f8c4ab3dd4363ed468fab41e4824ee9...   \n",
       "2      316fdd1477725b9fb1a55015ac06b68b92b50bd4303e08...   \n",
       "3      8a0f34e0e30e4e5cfb306933c1d25fa801a5da78646b59...   \n",
       "4      e517a5e95d1065886a7c815e82fe254381d4f9f4b244d4...   \n",
       "...                                                  ...   \n",
       "19248  7d98022c0611752eb6bc98107000496abcd039f22f1ab9...   \n",
       "19249  92f3f175dcc8185b62c91d0008df773c69f674bb507d42...   \n",
       "19250  e879f0d441c5cf2837ccac8ffb463ecfaa3544745781b2...   \n",
       "19251  b04c39fe7ac657baaa509d674fac8310aa0b31b3f7d885...   \n",
       "19252  bb8f025510942f63629bb32580a3e766aefe6f5e1d7723...   \n",
       "\n",
       "                                                 caption          label  \\\n",
       "0                cô ấy trên mạng vs cô ấy ngoài đời =)))  multi-sarcasm   \n",
       "1        người tâm linh giao tiếp với người thực tế :)))    not-sarcasm   \n",
       "2      hình như trăng hôm nay đẹp quá mọi người ạ! 😃 ...  multi-sarcasm   \n",
       "3      mọi người nghĩ sao về phát biểu của shark việt...    not-sarcasm   \n",
       "4            2 tay hai nàng chứ việc gì phải lệ hai hàng  multi-sarcasm   \n",
       "...                                                  ...            ...   \n",
       "19248  phát hiện vua biển atlantis arthur curry cùng ...  image-sarcasm   \n",
       "19249  phát hiện vua biển atlantis arthur curry cùng ...  image-sarcasm   \n",
       "19250  phát hiện vua biển atlantis arthur curry cùng ...  image-sarcasm   \n",
       "19251                                         theo trend  image-sarcasm   \n",
       "19252  viện kiểm sát nhân dân huyện định quán (đồng n...  image-sarcasm   \n",
       "\n",
       "                                              text_image  \n",
       "0                                                         \n",
       "1      Chốn Lông Lày Sukinchana bàn thờ đột nhiên bị ...  \n",
       "2                                                         \n",
       "3      SHARK VIỆT: ?NHIỀU NGƯỜI Ở VIỆT NAM ĐI LÀM CHỈ...  \n",
       "4                                                         \n",
       "...                                                  ...  \n",
       "19248                                                     \n",
       "19249                                                     \n",
       "19250                                        Chảo bê con  \n",
       "19251  Bạch Trung 1 giờ - Q Minh bị đuối khỏi quán vì...  \n",
       "19252  NĂM Trình giới ALIMANS OVERSING KHOA KHI ANHET...  \n",
       "\n",
       "[19253 rows x 4 columns]"
      ],
      "text/html": [
       "<div>\n",
       "<style scoped>\n",
       "    .dataframe tbody tr th:only-of-type {\n",
       "        vertical-align: middle;\n",
       "    }\n",
       "\n",
       "    .dataframe tbody tr th {\n",
       "        vertical-align: top;\n",
       "    }\n",
       "\n",
       "    .dataframe thead th {\n",
       "        text-align: right;\n",
       "    }\n",
       "</style>\n",
       "<table border=\"1\" class=\"dataframe\">\n",
       "  <thead>\n",
       "    <tr style=\"text-align: right;\">\n",
       "      <th></th>\n",
       "      <th>image</th>\n",
       "      <th>caption</th>\n",
       "      <th>label</th>\n",
       "      <th>text_image</th>\n",
       "    </tr>\n",
       "  </thead>\n",
       "  <tbody>\n",
       "    <tr>\n",
       "      <th>0</th>\n",
       "      <td>8ae451edcd8ebf697f8763ece249115813149c55733bf8...</td>\n",
       "      <td>cô ấy trên mạng vs cô ấy ngoài đời =)))</td>\n",
       "      <td>multi-sarcasm</td>\n",
       "      <td></td>\n",
       "    </tr>\n",
       "    <tr>\n",
       "      <th>1</th>\n",
       "      <td>35370ffd6c791d6f8c4ab3dd4363ed468fab41e4824ee9...</td>\n",
       "      <td>người tâm linh giao tiếp với người thực tế :)))</td>\n",
       "      <td>not-sarcasm</td>\n",
       "      <td>Chốn Lông Lày Sukinchana bàn thờ đột nhiên bị ...</td>\n",
       "    </tr>\n",
       "    <tr>\n",
       "      <th>2</th>\n",
       "      <td>316fdd1477725b9fb1a55015ac06b68b92b50bd4303e08...</td>\n",
       "      <td>hình như trăng hôm nay đẹp quá mọi người ạ! 😃 ...</td>\n",
       "      <td>multi-sarcasm</td>\n",
       "      <td></td>\n",
       "    </tr>\n",
       "    <tr>\n",
       "      <th>3</th>\n",
       "      <td>8a0f34e0e30e4e5cfb306933c1d25fa801a5da78646b59...</td>\n",
       "      <td>mọi người nghĩ sao về phát biểu của shark việt...</td>\n",
       "      <td>not-sarcasm</td>\n",
       "      <td>SHARK VIỆT: ?NHIỀU NGƯỜI Ở VIỆT NAM ĐI LÀM CHỈ...</td>\n",
       "    </tr>\n",
       "    <tr>\n",
       "      <th>4</th>\n",
       "      <td>e517a5e95d1065886a7c815e82fe254381d4f9f4b244d4...</td>\n",
       "      <td>2 tay hai nàng chứ việc gì phải lệ hai hàng</td>\n",
       "      <td>multi-sarcasm</td>\n",
       "      <td></td>\n",
       "    </tr>\n",
       "    <tr>\n",
       "      <th>...</th>\n",
       "      <td>...</td>\n",
       "      <td>...</td>\n",
       "      <td>...</td>\n",
       "      <td>...</td>\n",
       "    </tr>\n",
       "    <tr>\n",
       "      <th>19248</th>\n",
       "      <td>7d98022c0611752eb6bc98107000496abcd039f22f1ab9...</td>\n",
       "      <td>phát hiện vua biển atlantis arthur curry cùng ...</td>\n",
       "      <td>image-sarcasm</td>\n",
       "      <td></td>\n",
       "    </tr>\n",
       "    <tr>\n",
       "      <th>19249</th>\n",
       "      <td>92f3f175dcc8185b62c91d0008df773c69f674bb507d42...</td>\n",
       "      <td>phát hiện vua biển atlantis arthur curry cùng ...</td>\n",
       "      <td>image-sarcasm</td>\n",
       "      <td></td>\n",
       "    </tr>\n",
       "    <tr>\n",
       "      <th>19250</th>\n",
       "      <td>e879f0d441c5cf2837ccac8ffb463ecfaa3544745781b2...</td>\n",
       "      <td>phát hiện vua biển atlantis arthur curry cùng ...</td>\n",
       "      <td>image-sarcasm</td>\n",
       "      <td>Chảo bê con</td>\n",
       "    </tr>\n",
       "    <tr>\n",
       "      <th>19251</th>\n",
       "      <td>b04c39fe7ac657baaa509d674fac8310aa0b31b3f7d885...</td>\n",
       "      <td>theo trend</td>\n",
       "      <td>image-sarcasm</td>\n",
       "      <td>Bạch Trung 1 giờ - Q Minh bị đuối khỏi quán vì...</td>\n",
       "    </tr>\n",
       "    <tr>\n",
       "      <th>19252</th>\n",
       "      <td>bb8f025510942f63629bb32580a3e766aefe6f5e1d7723...</td>\n",
       "      <td>viện kiểm sát nhân dân huyện định quán (đồng n...</td>\n",
       "      <td>image-sarcasm</td>\n",
       "      <td>NĂM Trình giới ALIMANS OVERSING KHOA KHI ANHET...</td>\n",
       "    </tr>\n",
       "  </tbody>\n",
       "</table>\n",
       "<p>19253 rows × 4 columns</p>\n",
       "</div>"
      ]
     },
     "execution_count": 34,
     "metadata": {},
     "output_type": "execute_result"
    }
   ],
   "execution_count": 34
  },
  {
   "metadata": {
    "ExecuteTime": {
     "end_time": "2024-11-06T09:09:29.334466Z",
     "start_time": "2024-11-06T09:09:29.167607Z"
    }
   },
   "cell_type": "code",
   "source": "",
   "id": "659ae6bf9a59dc9",
   "outputs": [],
   "execution_count": 72
  },
  {
   "metadata": {
    "ExecuteTime": {
     "end_time": "2024-10-24T02:30:53.240060Z",
     "start_time": "2024-10-24T02:30:53.237072Z"
    }
   },
   "cell_type": "code",
   "source": "",
   "id": "287c80829982a079",
   "outputs": [],
   "execution_count": null
  },
  {
   "metadata": {
    "ExecuteTime": {
     "end_time": "2024-11-11T07:39:16.641728Z",
     "start_time": "2024-11-11T07:39:16.567511Z"
    }
   },
   "cell_type": "code",
   "source": [
    "import json\n",
    "from collections import Counter\n",
    "\n",
    "# Giả sử file JSON của bạn có tên là 'results.json'\n",
    "with open(r'F:\\ds_competition\\results.json', 'r') as file:\n",
    "    data = json.load(file)\n",
    "\n",
    "# Lấy danh sách các nhãn từ dictionary\n",
    "labels = list(data[\"results\"].values())\n",
    "\n",
    "# Đếm số lượng từng loại nhãn\n",
    "label_counts = Counter(labels)\n",
    "\n",
    "# In kết quả\n",
    "print(label_counts)"
   ],
   "id": "6fc27941a9d5087d",
   "outputs": [
    {
     "ename": "FileNotFoundError",
     "evalue": "[Errno 2] No such file or directory: 'F:\\\\ds_competition\\\\results.json'",
     "output_type": "error",
     "traceback": [
      "\u001B[1;31m---------------------------------------------------------------------------\u001B[0m",
      "\u001B[1;31mFileNotFoundError\u001B[0m                         Traceback (most recent call last)",
      "Cell \u001B[1;32mIn[3], line 5\u001B[0m\n\u001B[0;32m      2\u001B[0m \u001B[38;5;28;01mfrom\u001B[39;00m \u001B[38;5;21;01mcollections\u001B[39;00m \u001B[38;5;28;01mimport\u001B[39;00m Counter\n\u001B[0;32m      4\u001B[0m \u001B[38;5;66;03m# Giả sử file JSON của bạn có tên là 'results.json'\u001B[39;00m\n\u001B[1;32m----> 5\u001B[0m \u001B[38;5;28;01mwith\u001B[39;00m \u001B[38;5;28;43mopen\u001B[39;49m\u001B[43m(\u001B[49m\u001B[38;5;124;43mr\u001B[39;49m\u001B[38;5;124;43m'\u001B[39;49m\u001B[38;5;124;43mF:\u001B[39;49m\u001B[38;5;124;43m\\\u001B[39;49m\u001B[38;5;124;43mds_competition\u001B[39;49m\u001B[38;5;124;43m\\\u001B[39;49m\u001B[38;5;124;43mresults.json\u001B[39;49m\u001B[38;5;124;43m'\u001B[39;49m\u001B[43m,\u001B[49m\u001B[43m \u001B[49m\u001B[38;5;124;43m'\u001B[39;49m\u001B[38;5;124;43mr\u001B[39;49m\u001B[38;5;124;43m'\u001B[39;49m\u001B[43m)\u001B[49m \u001B[38;5;28;01mas\u001B[39;00m file:\n\u001B[0;32m      6\u001B[0m     data \u001B[38;5;241m=\u001B[39m json\u001B[38;5;241m.\u001B[39mload(file)\n\u001B[0;32m      8\u001B[0m \u001B[38;5;66;03m# Lấy danh sách các nhãn từ dictionary\u001B[39;00m\n",
      "File \u001B[1;32mF:\\ds_competition\\venv\\Lib\\site-packages\\IPython\\core\\interactiveshell.py:324\u001B[0m, in \u001B[0;36m_modified_open\u001B[1;34m(file, *args, **kwargs)\u001B[0m\n\u001B[0;32m    317\u001B[0m \u001B[38;5;28;01mif\u001B[39;00m file \u001B[38;5;129;01min\u001B[39;00m {\u001B[38;5;241m0\u001B[39m, \u001B[38;5;241m1\u001B[39m, \u001B[38;5;241m2\u001B[39m}:\n\u001B[0;32m    318\u001B[0m     \u001B[38;5;28;01mraise\u001B[39;00m \u001B[38;5;167;01mValueError\u001B[39;00m(\n\u001B[0;32m    319\u001B[0m         \u001B[38;5;124mf\u001B[39m\u001B[38;5;124m\"\u001B[39m\u001B[38;5;124mIPython won\u001B[39m\u001B[38;5;124m'\u001B[39m\u001B[38;5;124mt let you open fd=\u001B[39m\u001B[38;5;132;01m{\u001B[39;00mfile\u001B[38;5;132;01m}\u001B[39;00m\u001B[38;5;124m by default \u001B[39m\u001B[38;5;124m\"\u001B[39m\n\u001B[0;32m    320\u001B[0m         \u001B[38;5;124m\"\u001B[39m\u001B[38;5;124mas it is likely to crash IPython. If you know what you are doing, \u001B[39m\u001B[38;5;124m\"\u001B[39m\n\u001B[0;32m    321\u001B[0m         \u001B[38;5;124m\"\u001B[39m\u001B[38;5;124myou can use builtins\u001B[39m\u001B[38;5;124m'\u001B[39m\u001B[38;5;124m open.\u001B[39m\u001B[38;5;124m\"\u001B[39m\n\u001B[0;32m    322\u001B[0m     )\n\u001B[1;32m--> 324\u001B[0m \u001B[38;5;28;01mreturn\u001B[39;00m \u001B[43mio_open\u001B[49m\u001B[43m(\u001B[49m\u001B[43mfile\u001B[49m\u001B[43m,\u001B[49m\u001B[43m \u001B[49m\u001B[38;5;241;43m*\u001B[39;49m\u001B[43margs\u001B[49m\u001B[43m,\u001B[49m\u001B[43m \u001B[49m\u001B[38;5;241;43m*\u001B[39;49m\u001B[38;5;241;43m*\u001B[39;49m\u001B[43mkwargs\u001B[49m\u001B[43m)\u001B[49m\n",
      "\u001B[1;31mFileNotFoundError\u001B[0m: [Errno 2] No such file or directory: 'F:\\\\ds_competition\\\\results.json'"
     ]
    }
   ],
   "execution_count": 3
  },
  {
   "metadata": {
    "ExecuteTime": {
     "end_time": "2024-11-11T07:39:18.321538Z",
     "start_time": "2024-11-11T07:39:18.315717Z"
    }
   },
   "cell_type": "code",
   "source": [
    "import json\n",
    "\n",
    "# Hàm đọc dữ liệu từ tệp JSON\n",
    "def load_json(file_path):\n",
    "    with open(file_path, 'r', encoding='utf-8') as file:\n",
    "        return json.load(file)\n",
    "\n",
    "# Hàm so sánh hai tệp JSON và tìm sự khác nhau\n",
    "def compare_json_files(file1_path, file2_path):\n",
    "    json1 = load_json(file1_path)\n",
    "    json2 = load_json(file2_path)\n",
    "\n",
    "    # Lấy kết quả từ khóa \"results\"\n",
    "    results1 = json1.get(\"results\", {})\n",
    "    results2 = json2.get(\"results\", {})\n",
    "\n",
    "    # Tìm các phần tử khác nhau\n",
    "    differences = {}\n",
    "    for key in set(results1.keys()).union(results2.keys()):\n",
    "        if results1.get(key) != results2.get(key):\n",
    "            differences[key] = {\n",
    "                \"file1\": results1.get(key),\n",
    "                \"file2\": results2.get(key)\n",
    "            }\n",
    "\n",
    "    # In kết quả\n",
    "    if differences:\n",
    "        print(f\"Các phần tử khác nhau giữa hai tệp: {len(differences)}\")\n",
    "        for key, value in differences.items():\n",
    "            # if value['file2'] == 'image-sarcasm':\n",
    "                print(f\"Key {key}: file1 = {value['file1']}, file2 = {value['file2']}\")\n",
    "    else:\n",
    "        print(\"Hai tệp giống nhau hoàn toàn!\")"
   ],
   "id": "83612184193625ab",
   "outputs": [],
   "execution_count": 4
  },
  {
   "metadata": {
    "ExecuteTime": {
     "end_time": "2024-11-11T07:39:19.315559Z",
     "start_time": "2024-11-11T07:39:19.312448Z"
    }
   },
   "cell_type": "code",
   "source": "",
   "id": "edbb8527d2b63e33",
   "outputs": [],
   "execution_count": null
  },
  {
   "metadata": {
    "ExecuteTime": {
     "end_time": "2024-11-11T07:39:20.310526Z",
     "start_time": "2024-11-11T07:39:20.296266Z"
    }
   },
   "cell_type": "code",
   "source": [
    "import json\n",
    "from collections import Counter\n",
    "\n",
    "\n",
    "# Sử dụng hàm để so sánh hai file JSON\n",
    "compare_json_files(r'F:\\ds_competition\\TA_result_01 (1)\\results.json', r'F:\\ds_competition\\TA_result_02 (1)\\results.json')"
   ],
   "id": "1f8511acd9ce64b9",
   "outputs": [
    {
     "name": "stdout",
     "output_type": "stream",
     "text": [
      "Các phần tử khác nhau giữa hai tệp: 141\n",
      "Key 1016: file1 = not-sarcasm, file2 = multi-sarcasm\n",
      "Key 420: file1 = multi-sarcasm, file2 = not-sarcasm\n",
      "Key 37: file1 = multi-sarcasm, file2 = not-sarcasm\n",
      "Key 141: file1 = not-sarcasm, file2 = multi-sarcasm\n",
      "Key 929: file1 = not-sarcasm, file2 = multi-sarcasm\n",
      "Key 165: file1 = not-sarcasm, file2 = multi-sarcasm\n",
      "Key 419: file1 = multi-sarcasm, file2 = not-sarcasm\n",
      "Key 856: file1 = not-sarcasm, file2 = image-sarcasm\n",
      "Key 1192: file1 = multi-sarcasm, file2 = not-sarcasm\n",
      "Key 1179: file1 = not-sarcasm, file2 = multi-sarcasm\n",
      "Key 591: file1 = not-sarcasm, file2 = multi-sarcasm\n",
      "Key 223: file1 = not-sarcasm, file2 = multi-sarcasm\n",
      "Key 893: file1 = multi-sarcasm, file2 = not-sarcasm\n",
      "Key 952: file1 = not-sarcasm, file2 = multi-sarcasm\n",
      "Key 214: file1 = multi-sarcasm, file2 = not-sarcasm\n",
      "Key 1194: file1 = multi-sarcasm, file2 = not-sarcasm\n",
      "Key 982: file1 = multi-sarcasm, file2 = not-sarcasm\n",
      "Key 705: file1 = not-sarcasm, file2 = multi-sarcasm\n",
      "Key 1095: file1 = not-sarcasm, file2 = multi-sarcasm\n",
      "Key 1178: file1 = multi-sarcasm, file2 = not-sarcasm\n",
      "Key 1101: file1 = not-sarcasm, file2 = multi-sarcasm\n",
      "Key 1040: file1 = not-sarcasm, file2 = multi-sarcasm\n",
      "Key 519: file1 = not-sarcasm, file2 = multi-sarcasm\n",
      "Key 131: file1 = not-sarcasm, file2 = multi-sarcasm\n",
      "Key 774: file1 = image-sarcasm, file2 = multi-sarcasm\n",
      "Key 453: file1 = not-sarcasm, file2 = multi-sarcasm\n",
      "Key 25: file1 = multi-sarcasm, file2 = not-sarcasm\n",
      "Key 980: file1 = not-sarcasm, file2 = multi-sarcasm\n",
      "Key 894: file1 = multi-sarcasm, file2 = not-sarcasm\n",
      "Key 784: file1 = not-sarcasm, file2 = image-sarcasm\n",
      "Key 612: file1 = multi-sarcasm, file2 = image-sarcasm\n",
      "Key 1184: file1 = multi-sarcasm, file2 = not-sarcasm\n",
      "Key 462: file1 = image-sarcasm, file2 = not-sarcasm\n",
      "Key 175: file1 = not-sarcasm, file2 = multi-sarcasm\n",
      "Key 1176: file1 = multi-sarcasm, file2 = not-sarcasm\n",
      "Key 621: file1 = multi-sarcasm, file2 = not-sarcasm\n",
      "Key 1136: file1 = multi-sarcasm, file2 = text-sarcasm\n",
      "Key 497: file1 = image-sarcasm, file2 = multi-sarcasm\n",
      "Key 818: file1 = image-sarcasm, file2 = multi-sarcasm\n",
      "Key 371: file1 = multi-sarcasm, file2 = not-sarcasm\n",
      "Key 872: file1 = not-sarcasm, file2 = multi-sarcasm\n",
      "Key 67: file1 = not-sarcasm, file2 = multi-sarcasm\n",
      "Key 543: file1 = multi-sarcasm, file2 = not-sarcasm\n",
      "Key 211: file1 = not-sarcasm, file2 = multi-sarcasm\n",
      "Key 806: file1 = not-sarcasm, file2 = multi-sarcasm\n",
      "Key 1089: file1 = not-sarcasm, file2 = multi-sarcasm\n",
      "Key 833: file1 = image-sarcasm, file2 = multi-sarcasm\n",
      "Key 1063: file1 = not-sarcasm, file2 = multi-sarcasm\n",
      "Key 909: file1 = not-sarcasm, file2 = multi-sarcasm\n",
      "Key 693: file1 = not-sarcasm, file2 = multi-sarcasm\n",
      "Key 729: file1 = not-sarcasm, file2 = multi-sarcasm\n",
      "Key 442: file1 = multi-sarcasm, file2 = not-sarcasm\n",
      "Key 1170: file1 = not-sarcasm, file2 = multi-sarcasm\n",
      "Key 782: file1 = multi-sarcasm, file2 = not-sarcasm\n",
      "Key 726: file1 = not-sarcasm, file2 = multi-sarcasm\n",
      "Key 758: file1 = not-sarcasm, file2 = image-sarcasm\n",
      "Key 1197: file1 = not-sarcasm, file2 = image-sarcasm\n",
      "Key 1059: file1 = image-sarcasm, file2 = multi-sarcasm\n",
      "Key 345: file1 = multi-sarcasm, file2 = not-sarcasm\n",
      "Key 981: file1 = not-sarcasm, file2 = multi-sarcasm\n",
      "Key 857: file1 = not-sarcasm, file2 = multi-sarcasm\n",
      "Key 319: file1 = multi-sarcasm, file2 = not-sarcasm\n",
      "Key 1029: file1 = multi-sarcasm, file2 = not-sarcasm\n",
      "Key 925: file1 = multi-sarcasm, file2 = text-sarcasm\n",
      "Key 809: file1 = not-sarcasm, file2 = multi-sarcasm\n",
      "Key 811: file1 = not-sarcasm, file2 = multi-sarcasm\n",
      "Key 623: file1 = multi-sarcasm, file2 = not-sarcasm\n",
      "Key 879: file1 = not-sarcasm, file2 = multi-sarcasm\n",
      "Key 448: file1 = not-sarcasm, file2 = multi-sarcasm\n",
      "Key 749: file1 = multi-sarcasm, file2 = not-sarcasm\n",
      "Key 546: file1 = image-sarcasm, file2 = multi-sarcasm\n",
      "Key 956: file1 = not-sarcasm, file2 = multi-sarcasm\n",
      "Key 600: file1 = not-sarcasm, file2 = multi-sarcasm\n",
      "Key 1250: file1 = multi-sarcasm, file2 = not-sarcasm\n",
      "Key 1108: file1 = multi-sarcasm, file2 = not-sarcasm\n",
      "Key 730: file1 = not-sarcasm, file2 = multi-sarcasm\n",
      "Key 958: file1 = multi-sarcasm, file2 = not-sarcasm\n",
      "Key 884: file1 = not-sarcasm, file2 = multi-sarcasm\n",
      "Key 841: file1 = multi-sarcasm, file2 = not-sarcasm\n",
      "Key 297: file1 = image-sarcasm, file2 = not-sarcasm\n",
      "Key 1166: file1 = not-sarcasm, file2 = multi-sarcasm\n",
      "Key 1299: file1 = multi-sarcasm, file2 = not-sarcasm\n",
      "Key 911: file1 = not-sarcasm, file2 = multi-sarcasm\n",
      "Key 658: file1 = not-sarcasm, file2 = image-sarcasm\n",
      "Key 1118: file1 = multi-sarcasm, file2 = not-sarcasm\n",
      "Key 732: file1 = not-sarcasm, file2 = multi-sarcasm\n",
      "Key 867: file1 = not-sarcasm, file2 = multi-sarcasm\n",
      "Key 28: file1 = not-sarcasm, file2 = multi-sarcasm\n",
      "Key 849: file1 = image-sarcasm, file2 = multi-sarcasm\n",
      "Key 1124: file1 = multi-sarcasm, file2 = not-sarcasm\n",
      "Key 1138: file1 = not-sarcasm, file2 = multi-sarcasm\n",
      "Key 1125: file1 = not-sarcasm, file2 = multi-sarcasm\n",
      "Key 311: file1 = not-sarcasm, file2 = multi-sarcasm\n",
      "Key 622: file1 = multi-sarcasm, file2 = not-sarcasm\n",
      "Key 647: file1 = multi-sarcasm, file2 = image-sarcasm\n",
      "Key 1211: file1 = not-sarcasm, file2 = multi-sarcasm\n",
      "Key 1312: file1 = multi-sarcasm, file2 = not-sarcasm\n",
      "Key 1079: file1 = multi-sarcasm, file2 = not-sarcasm\n",
      "Key 255: file1 = multi-sarcasm, file2 = not-sarcasm\n",
      "Key 1144: file1 = not-sarcasm, file2 = multi-sarcasm\n",
      "Key 625: file1 = multi-sarcasm, file2 = not-sarcasm\n",
      "Key 1338: file1 = multi-sarcasm, file2 = not-sarcasm\n",
      "Key 800: file1 = not-sarcasm, file2 = multi-sarcasm\n",
      "Key 875: file1 = multi-sarcasm, file2 = not-sarcasm\n",
      "Key 263: file1 = multi-sarcasm, file2 = not-sarcasm\n",
      "Key 934: file1 = not-sarcasm, file2 = multi-sarcasm\n",
      "Key 1298: file1 = multi-sarcasm, file2 = not-sarcasm\n",
      "Key 552: file1 = not-sarcasm, file2 = multi-sarcasm\n",
      "Key 250: file1 = multi-sarcasm, file2 = not-sarcasm\n",
      "Key 1209: file1 = image-sarcasm, file2 = multi-sarcasm\n",
      "Key 1046: file1 = multi-sarcasm, file2 = not-sarcasm\n",
      "Key 38: file1 = not-sarcasm, file2 = multi-sarcasm\n",
      "Key 1425: file1 = image-sarcasm, file2 = multi-sarcasm\n",
      "Key 843: file1 = multi-sarcasm, file2 = not-sarcasm\n",
      "Key 1078: file1 = multi-sarcasm, file2 = image-sarcasm\n",
      "Key 467: file1 = not-sarcasm, file2 = multi-sarcasm\n",
      "Key 759: file1 = not-sarcasm, file2 = multi-sarcasm\n",
      "Key 58: file1 = not-sarcasm, file2 = multi-sarcasm\n",
      "Key 974: file1 = not-sarcasm, file2 = multi-sarcasm\n",
      "Key 639: file1 = image-sarcasm, file2 = multi-sarcasm\n",
      "Key 661: file1 = multi-sarcasm, file2 = image-sarcasm\n",
      "Key 548: file1 = not-sarcasm, file2 = multi-sarcasm\n",
      "Key 132: file1 = not-sarcasm, file2 = multi-sarcasm\n",
      "Key 1300: file1 = multi-sarcasm, file2 = not-sarcasm\n",
      "Key 890: file1 = multi-sarcasm, file2 = image-sarcasm\n",
      "Key 1185: file1 = image-sarcasm, file2 = multi-sarcasm\n",
      "Key 1492: file1 = multi-sarcasm, file2 = not-sarcasm\n",
      "Key 839: file1 = multi-sarcasm, file2 = not-sarcasm\n",
      "Key 1410: file1 = multi-sarcasm, file2 = not-sarcasm\n",
      "Key 1198: file1 = image-sarcasm, file2 = multi-sarcasm\n",
      "Key 813: file1 = not-sarcasm, file2 = image-sarcasm\n",
      "Key 512: file1 = multi-sarcasm, file2 = not-sarcasm\n",
      "Key 1305: file1 = not-sarcasm, file2 = multi-sarcasm\n",
      "Key 910: file1 = multi-sarcasm, file2 = image-sarcasm\n",
      "Key 83: file1 = not-sarcasm, file2 = multi-sarcasm\n",
      "Key 735: file1 = multi-sarcasm, file2 = not-sarcasm\n",
      "Key 822: file1 = image-sarcasm, file2 = multi-sarcasm\n",
      "Key 963: file1 = image-sarcasm, file2 = multi-sarcasm\n",
      "Key 1242: file1 = image-sarcasm, file2 = multi-sarcasm\n",
      "Key 1202: file1 = not-sarcasm, file2 = multi-sarcasm\n",
      "Key 418: file1 = multi-sarcasm, file2 = not-sarcasm\n"
     ]
    }
   ],
   "execution_count": 5
  },
  {
   "metadata": {},
   "cell_type": "code",
   "outputs": [],
   "execution_count": null,
   "source": "",
   "id": "6ddef865d8b61633"
  }
 ],
 "metadata": {
  "kernelspec": {
   "display_name": "Python 3",
   "language": "python",
   "name": "python3"
  },
  "language_info": {
   "codemirror_mode": {
    "name": "ipython",
    "version": 2
   },
   "file_extension": ".py",
   "mimetype": "text/x-python",
   "name": "python",
   "nbconvert_exporter": "python",
   "pygments_lexer": "ipython2",
   "version": "2.7.6"
  }
 },
 "nbformat": 4,
 "nbformat_minor": 5
}
